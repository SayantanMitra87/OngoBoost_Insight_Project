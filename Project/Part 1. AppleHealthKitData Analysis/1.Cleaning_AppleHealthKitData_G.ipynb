{
 "cells": [
  {
   "cell_type": "markdown",
   "metadata": {},
   "source": [
    "## Explore AppleHealthKit data"
   ]
  },
  {
   "cell_type": "code",
   "execution_count": 1,
   "metadata": {},
   "outputs": [],
   "source": [
    "import numpy as np\n",
    "import pandas as pd\n",
    "#import modin.pandas as pd"
   ]
  },
  {
   "cell_type": "code",
   "execution_count": 2,
   "metadata": {},
   "outputs": [
    {
     "data": {
      "text/html": [
       "<div>\n",
       "<style scoped>\n",
       "    .dataframe tbody tr th:only-of-type {\n",
       "        vertical-align: middle;\n",
       "    }\n",
       "\n",
       "    .dataframe tbody tr th {\n",
       "        vertical-align: top;\n",
       "    }\n",
       "\n",
       "    .dataframe thead th {\n",
       "        text-align: right;\n",
       "    }\n",
       "</style>\n",
       "<table border=\"1\" class=\"dataframe\">\n",
       "  <thead>\n",
       "    <tr style=\"text-align: right;\">\n",
       "      <th></th>\n",
       "      <th>_id</th>\n",
       "      <th>owner</th>\n",
       "      <th>source</th>\n",
       "      <th>sourceid</th>\n",
       "      <th>sourcename</th>\n",
       "      <th>type</th>\n",
       "      <th>startdate</th>\n",
       "      <th>enddate</th>\n",
       "      <th>value</th>\n",
       "      <th>originaldata</th>\n",
       "      <th>createdat</th>\n",
       "      <th>updatedat</th>\n",
       "      <th>timezone</th>\n",
       "      <th>mood</th>\n",
       "      <th>tags</th>\n",
       "      <th>_fivetran_deleted</th>\n",
       "      <th>_fivetran_synced</th>\n",
       "      <th>content</th>\n",
       "    </tr>\n",
       "  </thead>\n",
       "  <tbody>\n",
       "    <tr>\n",
       "      <th>0</th>\n",
       "      <td>013dbe8e-4388-571a-a475-46cdccb95124</td>\n",
       "      <td>f9946d46-0b26-444c-bf9f-d6322c0c0ce7</td>\n",
       "      <td>healthkit:com.apple.health.7B5BE2EC-D560-46B8-...</td>\n",
       "      <td>92C32624-8A45-4D5B-B32E-254BD3E06E48</td>\n",
       "      <td>Kathleenâs AppleÂ Watch</td>\n",
       "      <td>health-heart-rate</td>\n",
       "      <td>2019-05-03 14:53:31.783000</td>\n",
       "      <td>2019-05-03 14:53:31.783000</td>\n",
       "      <td>100.000000</td>\n",
       "      <td>NaN</td>\n",
       "      <td>2019-08-19 18:48:16.277721</td>\n",
       "      <td>2019-08-19 18:48:16.277721</td>\n",
       "      <td>America/New_York</td>\n",
       "      <td>NaN</td>\n",
       "      <td>NaN</td>\n",
       "      <td>NaN</td>\n",
       "      <td>2019-09-17 01:39:26.000000</td>\n",
       "      <td>NaN</td>\n",
       "    </tr>\n",
       "    <tr>\n",
       "      <th>1</th>\n",
       "      <td>01cfa004-e070-59a9-9044-a33df3d0e5ed</td>\n",
       "      <td>f9946d46-0b26-444c-bf9f-d6322c0c0ce7</td>\n",
       "      <td>healthkit:com.apple.health.7B5BE2EC-D560-46B8-...</td>\n",
       "      <td>6254D17D-5E03-4409-958F-213E45FFAE5B</td>\n",
       "      <td>Kathleenâs AppleÂ Watch</td>\n",
       "      <td>health-step-distance</td>\n",
       "      <td>2019-06-28 16:59:51.148000</td>\n",
       "      <td>2019-06-28 16:59:53.706000</td>\n",
       "      <td>2.549228</td>\n",
       "      <td>NaN</td>\n",
       "      <td>2019-08-19 21:51:59.376037</td>\n",
       "      <td>2019-08-19 21:51:59.376037</td>\n",
       "      <td>America/New_York</td>\n",
       "      <td>NaN</td>\n",
       "      <td>NaN</td>\n",
       "      <td>NaN</td>\n",
       "      <td>2019-09-17 02:15:55.634000</td>\n",
       "      <td>NaN</td>\n",
       "    </tr>\n",
       "  </tbody>\n",
       "</table>\n",
       "</div>"
      ],
      "text/plain": [
       "                                    _id                                 owner  \\\n",
       "0  013dbe8e-4388-571a-a475-46cdccb95124  f9946d46-0b26-444c-bf9f-d6322c0c0ce7   \n",
       "1  01cfa004-e070-59a9-9044-a33df3d0e5ed  f9946d46-0b26-444c-bf9f-d6322c0c0ce7   \n",
       "\n",
       "                                              source  \\\n",
       "0  healthkit:com.apple.health.7B5BE2EC-D560-46B8-...   \n",
       "1  healthkit:com.apple.health.7B5BE2EC-D560-46B8-...   \n",
       "\n",
       "                               sourceid                 sourcename  \\\n",
       "0  92C32624-8A45-4D5B-B32E-254BD3E06E48  Kathleenâs AppleÂ Watch   \n",
       "1  6254D17D-5E03-4409-958F-213E45FFAE5B  Kathleenâs AppleÂ Watch   \n",
       "\n",
       "                   type                   startdate  \\\n",
       "0     health-heart-rate  2019-05-03 14:53:31.783000   \n",
       "1  health-step-distance  2019-06-28 16:59:51.148000   \n",
       "\n",
       "                      enddate       value  originaldata  \\\n",
       "0  2019-05-03 14:53:31.783000  100.000000           NaN   \n",
       "1  2019-06-28 16:59:53.706000    2.549228           NaN   \n",
       "\n",
       "                    createdat                   updatedat          timezone  \\\n",
       "0  2019-08-19 18:48:16.277721  2019-08-19 18:48:16.277721  America/New_York   \n",
       "1  2019-08-19 21:51:59.376037  2019-08-19 21:51:59.376037  America/New_York   \n",
       "\n",
       "   mood  tags  _fivetran_deleted            _fivetran_synced  content  \n",
       "0   NaN   NaN                NaN  2019-09-17 01:39:26.000000      NaN  \n",
       "1   NaN   NaN                NaN  2019-09-17 02:15:55.634000      NaN  "
      ]
     },
     "execution_count": 2,
     "metadata": {},
     "output_type": "execute_result"
    }
   ],
   "source": [
    "df = pd.read_csv('datasample.csv')\n",
    "df.drop(columns=['#'], inplace=True)\n",
    "df.head(2)"
   ]
  },
  {
   "cell_type": "markdown",
   "metadata": {},
   "source": [
    "### Primary objective: To clean up the data with 23 million rows"
   ]
  },
  {
   "cell_type": "code",
   "execution_count": 3,
   "metadata": {},
   "outputs": [
    {
     "name": "stdout",
     "output_type": "stream",
     "text": [
      "No of rows: 23602366, No of columns: 18\n"
     ]
    }
   ],
   "source": [
    "print(f'No of rows: {df.shape[0]}, No of columns: {df.shape[1]}')"
   ]
  },
  {
   "cell_type": "code",
   "execution_count": 4,
   "metadata": {},
   "outputs": [
    {
     "name": "stdout",
     "output_type": "stream",
     "text": [
      "No of unique source before cleaning:  583\n",
      "No of unique source after cleaning:  75\n"
     ]
    }
   ],
   "source": [
    "#2# Owner column name is little hard to read, let's label the owner with easy id\n",
    "dicti = {}\n",
    "x=0\n",
    "for i in df['owner'].unique():  \n",
    "    dicti[i]=x\n",
    "    x+=1\n",
    "df['easy_id']=df['owner'].map(dicti)\n",
    "\n",
    "#3# Source needs to be cleaned: I am interested to know where the data is coming from\n",
    "a = df['source'].nunique()\n",
    "\n",
    "y = df['source'].str.split('healthkit:com.')\n",
    "z = []\n",
    "for i in y:\n",
    "    try:\n",
    "        string = i[1]\n",
    "        str2 = string.split('.')\n",
    "        str3 = str2[0]\n",
    "        z.append(str3)\n",
    "    except:\n",
    "        continue\n",
    "        \n",
    "df['source'] = pd.Series(z)\n",
    "b = df['source'].nunique()\n",
    "print('No of unique source before cleaning: ',a)\n",
    "print('No of unique source after cleaning: ',b)"
   ]
  },
  {
   "cell_type": "code",
   "execution_count": 5,
   "metadata": {},
   "outputs": [
    {
     "data": {
      "text/plain": [
       "health-heart-rate              8957081\n",
       "health-step-distance           8543295\n",
       "health-step-count              5821398\n",
       "health-flights-climbed          219242\n",
       "health-sleep                     52353\n",
       "health-weight                     3891\n",
       "health-mindfulness-duration       1811\n",
       "health-body-fat                   1673\n",
       "health-bmi                        1622\n",
       "Name: type, dtype: int64"
      ]
     },
     "execution_count": 5,
     "metadata": {},
     "output_type": "execute_result"
    }
   ],
   "source": [
    "#4# sourceid very similar to _id # we can remove it\n",
    "#5# sourcename-user-friendly name for source of data eg-Fitbit, we get that from cleaned source column already\n",
    "#6# Type will be important for user-segmentation\n",
    "df['type'].value_counts()"
   ]
  },
  {
   "cell_type": "code",
   "execution_count": 6,
   "metadata": {},
   "outputs": [
    {
     "data": {
      "text/plain": [
       "mood                 0\n",
       "tags                 0\n",
       "_fivetran_deleted    0\n",
       "content              0\n",
       "dtype: int64"
      ]
     },
     "execution_count": 6,
     "metadata": {},
     "output_type": "execute_result"
    }
   ],
   "source": [
    "#7#8# startdate, enddate would be used as a datetime column to aggregate activity /month/week etc\n",
    "#9# value column will be improtant to understand how active is the user\n",
    "#10# originaldata-remove no information\n",
    "#11#12# createdat,updatedat: will be remove- information will come from startdate and enddate anyways\n",
    "\n",
    "#13# Timezone is important to understand user demographics. \n",
    "df['continent'] = df['timezone'].str.split('/').apply(lambda x:x[0])\n",
    "df['city'] = df['timezone'].str.split('/').apply(lambda x:x[1])\n",
    "\n",
    "#14#15#16#18 # Only NaN values in the column\n",
    "df[['mood','tags','_fivetran_deleted','content']].nunique()"
   ]
  },
  {
   "cell_type": "code",
   "execution_count": 7,
   "metadata": {},
   "outputs": [
    {
     "data": {
      "text/plain": [
       "0"
      ]
     },
     "execution_count": 7,
     "metadata": {},
     "output_type": "execute_result"
    }
   ],
   "source": [
    "cols = ['sourceid', 'sourcename', 'createdat','updatedat', 'originaldata', 'timezone', 'mood','tags',\n",
    "        '_fivetran_deleted','_fivetran_synced','content']\n",
    "df_clean = df.drop(columns=cols)\n",
    "# arrange columns in a meaningful way\n",
    "cols = ['_id', 'owner','easy_id','source', 'type', 'startdate', 'enddate', 'value', 'continent', 'city']\n",
    "df_clean = df_clean[cols]\n",
    "\n",
    "# remove missing values in source column as 'Missing'\n",
    "df_clean['source'].fillna('Missing', inplace=True)\n",
    "df_clean.isna().sum().sum()"
   ]
  },
  {
   "cell_type": "code",
   "execution_count": 8,
   "metadata": {},
   "outputs": [
    {
     "name": "stdout",
     "output_type": "stream",
     "text": [
      "Before cleaning: No of rows: 23602366, No of columns: 21\n",
      "After cleaning: No of rows:  23602366, No of columns: 10\n"
     ]
    }
   ],
   "source": [
    "print(f'Before cleaning: No of rows: {df.shape[0]}, No of columns: {df.shape[1]}')\n",
    "print(f'After cleaning: No of rows:  {df_clean.shape[0]}, No of columns: {df_clean.shape[1]}')"
   ]
  },
  {
   "cell_type": "code",
   "execution_count": 9,
   "metadata": {},
   "outputs": [
    {
     "data": {
      "text/html": [
       "<div>\n",
       "<style scoped>\n",
       "    .dataframe tbody tr th:only-of-type {\n",
       "        vertical-align: middle;\n",
       "    }\n",
       "\n",
       "    .dataframe tbody tr th {\n",
       "        vertical-align: top;\n",
       "    }\n",
       "\n",
       "    .dataframe thead th {\n",
       "        text-align: right;\n",
       "    }\n",
       "</style>\n",
       "<table border=\"1\" class=\"dataframe\">\n",
       "  <thead>\n",
       "    <tr style=\"text-align: right;\">\n",
       "      <th></th>\n",
       "      <th>_id</th>\n",
       "      <th>owner</th>\n",
       "      <th>easy_id</th>\n",
       "      <th>source</th>\n",
       "      <th>type</th>\n",
       "      <th>startdate</th>\n",
       "      <th>enddate</th>\n",
       "      <th>value</th>\n",
       "      <th>continent</th>\n",
       "      <th>city</th>\n",
       "    </tr>\n",
       "  </thead>\n",
       "  <tbody>\n",
       "    <tr>\n",
       "      <th>0</th>\n",
       "      <td>013dbe8e-4388-571a-a475-46cdccb95124</td>\n",
       "      <td>f9946d46-0b26-444c-bf9f-d6322c0c0ce7</td>\n",
       "      <td>0</td>\n",
       "      <td>apple</td>\n",
       "      <td>health-heart-rate</td>\n",
       "      <td>2019-05-03 14:53:31.783</td>\n",
       "      <td>2019-05-03 14:53:31.783</td>\n",
       "      <td>100.000000</td>\n",
       "      <td>America</td>\n",
       "      <td>New_York</td>\n",
       "    </tr>\n",
       "    <tr>\n",
       "      <th>1</th>\n",
       "      <td>01cfa004-e070-59a9-9044-a33df3d0e5ed</td>\n",
       "      <td>f9946d46-0b26-444c-bf9f-d6322c0c0ce7</td>\n",
       "      <td>0</td>\n",
       "      <td>apple</td>\n",
       "      <td>health-step-distance</td>\n",
       "      <td>2019-06-28 16:59:51.148</td>\n",
       "      <td>2019-06-28 16:59:53.706</td>\n",
       "      <td>2.549228</td>\n",
       "      <td>America</td>\n",
       "      <td>New_York</td>\n",
       "    </tr>\n",
       "  </tbody>\n",
       "</table>\n",
       "</div>"
      ],
      "text/plain": [
       "                                    _id                                 owner  \\\n",
       "0  013dbe8e-4388-571a-a475-46cdccb95124  f9946d46-0b26-444c-bf9f-d6322c0c0ce7   \n",
       "1  01cfa004-e070-59a9-9044-a33df3d0e5ed  f9946d46-0b26-444c-bf9f-d6322c0c0ce7   \n",
       "\n",
       "   easy_id source                  type               startdate  \\\n",
       "0        0  apple     health-heart-rate 2019-05-03 14:53:31.783   \n",
       "1        0  apple  health-step-distance 2019-06-28 16:59:51.148   \n",
       "\n",
       "                  enddate       value continent      city  \n",
       "0 2019-05-03 14:53:31.783  100.000000   America  New_York  \n",
       "1 2019-06-28 16:59:53.706    2.549228   America  New_York  "
      ]
     },
     "execution_count": 9,
     "metadata": {},
     "output_type": "execute_result"
    }
   ],
   "source": [
    "df_clean.to_csv(\"df_clean.csv\", index=False)\n",
    "df_clean_ = pd.read_csv(\"df_clean.csv\", parse_dates=[\"startdate\",\"enddate\"])\n",
    "df_clean_.head(2)"
   ]
  },
  {
   "cell_type": "code",
   "execution_count": 10,
   "metadata": {},
   "outputs": [],
   "source": [
    "######### Next: 2.Aggregation_AppleHealthKitData_G : aggregate AppleHealthKit Data ###########"
   ]
  }
 ],
 "metadata": {
  "kernelspec": {
   "display_name": "Python 3",
   "language": "python",
   "name": "python3"
  },
  "language_info": {
   "codemirror_mode": {
    "name": "ipython",
    "version": 3
   },
   "file_extension": ".py",
   "mimetype": "text/x-python",
   "name": "python",
   "nbconvert_exporter": "python",
   "pygments_lexer": "ipython3",
   "version": "3.7.4"
  }
 },
 "nbformat": 4,
 "nbformat_minor": 2
}
