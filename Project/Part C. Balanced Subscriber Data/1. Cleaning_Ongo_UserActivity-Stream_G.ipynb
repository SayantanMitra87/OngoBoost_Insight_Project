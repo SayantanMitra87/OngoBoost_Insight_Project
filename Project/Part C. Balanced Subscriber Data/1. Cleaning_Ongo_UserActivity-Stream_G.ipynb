{
 "cells": [
  {
   "cell_type": "markdown",
   "metadata": {},
   "source": [
    "**Purpose :** of this notebook is to clean `ongouser_activity.csv` in order to aggregate it (Part C. Notebook 2) and then add subscription column. Following that I will build machine learning model to undertsand what user behavior drives their subscription DNA (what knowledge we can drive from their behavior to understand whether a user will subscribe)."
   ]
  },
  {
   "cell_type": "code",
   "execution_count": 1,
   "metadata": {},
   "outputs": [],
   "source": [
    "import numpy as np\n",
    "import pandas as pd\n",
    "# ignore warnings\n",
    "import warnings\n",
    "warnings.filterwarnings('ignore')"
   ]
  },
  {
   "cell_type": "code",
   "execution_count": 2,
   "metadata": {},
   "outputs": [
    {
     "data": {
      "text/html": [
       "<div>\n",
       "<style scoped>\n",
       "    .dataframe tbody tr th:only-of-type {\n",
       "        vertical-align: middle;\n",
       "    }\n",
       "\n",
       "    .dataframe tbody tr th {\n",
       "        vertical-align: top;\n",
       "    }\n",
       "\n",
       "    .dataframe thead th {\n",
       "        text-align: right;\n",
       "    }\n",
       "</style>\n",
       "<table border=\"1\" class=\"dataframe\">\n",
       "  <thead>\n",
       "    <tr style=\"text-align: right;\">\n",
       "      <th></th>\n",
       "      <th>user_id</th>\n",
       "      <th>source</th>\n",
       "      <th>activity_datetime</th>\n",
       "      <th>activity</th>\n",
       "      <th>activity_occurrence</th>\n",
       "      <th>feature_1</th>\n",
       "      <th>feature_2</th>\n",
       "      <th>feature_3</th>\n",
       "    </tr>\n",
       "  </thead>\n",
       "  <tbody>\n",
       "    <tr>\n",
       "      <th>0</th>\n",
       "      <td>9ba427e7-34ce-4c0b-914d-4f34432864a1</td>\n",
       "      <td>NaN</td>\n",
       "      <td>2019-11-30 20:07:51.459000</td>\n",
       "      <td>answered_question</td>\n",
       "      <td>1</td>\n",
       "      <td>I’m new to running and have pain in ITBand and...</td>\n",
       "      <td>I may not have gotten to the couch stretch sec...</td>\n",
       "      <td>The Run Experience</td>\n",
       "    </tr>\n",
       "    <tr>\n",
       "      <th>1</th>\n",
       "      <td>87836262-e847-48a4-99c5-bfb8dbae86c8</td>\n",
       "      <td>NaN</td>\n",
       "      <td>2019-12-09 02:10:30.015000</td>\n",
       "      <td>answered_question</td>\n",
       "      <td>1</td>\n",
       "      <td>Hi, where would I find the marathon training p...</td>\n",
       "      <td>Hi. I would like that as well 🙂 please.</td>\n",
       "      <td>The Run Experience</td>\n",
       "    </tr>\n",
       "  </tbody>\n",
       "</table>\n",
       "</div>"
      ],
      "text/plain": [
       "                                user_id source           activity_datetime  \\\n",
       "0  9ba427e7-34ce-4c0b-914d-4f34432864a1    NaN  2019-11-30 20:07:51.459000   \n",
       "1  87836262-e847-48a4-99c5-bfb8dbae86c8    NaN  2019-12-09 02:10:30.015000   \n",
       "\n",
       "            activity activity_occurrence  \\\n",
       "0  answered_question                   1   \n",
       "1  answered_question                   1   \n",
       "\n",
       "                                           feature_1  \\\n",
       "0  I’m new to running and have pain in ITBand and...   \n",
       "1  Hi, where would I find the marathon training p...   \n",
       "\n",
       "                                           feature_2           feature_3  \n",
       "0  I may not have gotten to the couch stretch sec...  The Run Experience  \n",
       "1            Hi. I would like that as well 🙂 please.  The Run Experience  "
      ]
     },
     "execution_count": 2,
     "metadata": {},
     "output_type": "execute_result"
    }
   ],
   "source": [
    "df_z = pd.read_csv('ongouser_activity_stream.csv',low_memory=False)\n",
    "df_z.drop(columns=['Unnamed: 0'],inplace=True)\n",
    "df_z.head(2)"
   ]
  },
  {
   "cell_type": "code",
   "execution_count": 3,
   "metadata": {},
   "outputs": [
    {
     "data": {
      "text/html": [
       "<div>\n",
       "<style scoped>\n",
       "    .dataframe tbody tr th:only-of-type {\n",
       "        vertical-align: middle;\n",
       "    }\n",
       "\n",
       "    .dataframe tbody tr th {\n",
       "        vertical-align: top;\n",
       "    }\n",
       "\n",
       "    .dataframe thead th {\n",
       "        text-align: right;\n",
       "    }\n",
       "</style>\n",
       "<table border=\"1\" class=\"dataframe\">\n",
       "  <thead>\n",
       "    <tr style=\"text-align: right;\">\n",
       "      <th></th>\n",
       "      <th>Unnamed: 0</th>\n",
       "      <th>joined_community_at</th>\n",
       "      <th>community_type</th>\n",
       "      <th>goal</th>\n",
       "      <th>community</th>\n",
       "      <th>metric_started_app_session_week1</th>\n",
       "      <th>metric_started_app_session_week2</th>\n",
       "      <th>metric_started_app_session_week3</th>\n",
       "      <th>metric_started_app_session_week4</th>\n",
       "      <th>metric_complete_session_gettingstarted_week4</th>\n",
       "      <th>...</th>\n",
       "      <th>metric_session_start_day_0</th>\n",
       "      <th>metric_session_start_day_1_30</th>\n",
       "      <th>metric_session_start_day_30_60</th>\n",
       "      <th>metric_session_start_day_60_up</th>\n",
       "      <th>_id</th>\n",
       "      <th>flag_startsession_b4_subs</th>\n",
       "      <th>flag_starttrial_b4_subs</th>\n",
       "      <th>flag_companysession_b4_subs</th>\n",
       "      <th>flag_compquickstart_b4_subs</th>\n",
       "      <th>flag_enrolprgm_b4_subs</th>\n",
       "    </tr>\n",
       "  </thead>\n",
       "  <tbody>\n",
       "    <tr>\n",
       "      <th>0</th>\n",
       "      <td>1</td>\n",
       "      <td>2020-01-17 15:50:00</td>\n",
       "      <td>running</td>\n",
       "      <td>running.health</td>\n",
       "      <td>The Run Experience</td>\n",
       "      <td>1.0</td>\n",
       "      <td>1.0</td>\n",
       "      <td>1.0</td>\n",
       "      <td>1.0</td>\n",
       "      <td>1.0</td>\n",
       "      <td>...</td>\n",
       "      <td>1</td>\n",
       "      <td>0</td>\n",
       "      <td>0</td>\n",
       "      <td>0</td>\n",
       "      <td>bc03395a-222e-42d3-be3f-d88878b57640</td>\n",
       "      <td>NaN</td>\n",
       "      <td>NaN</td>\n",
       "      <td>NaN</td>\n",
       "      <td>NaN</td>\n",
       "      <td>NaN</td>\n",
       "    </tr>\n",
       "    <tr>\n",
       "      <th>1</th>\n",
       "      <td>2</td>\n",
       "      <td>2020-01-17 15:43:00</td>\n",
       "      <td>running</td>\n",
       "      <td>running.race</td>\n",
       "      <td>The Run Experience</td>\n",
       "      <td>1.0</td>\n",
       "      <td>1.0</td>\n",
       "      <td>1.0</td>\n",
       "      <td>1.0</td>\n",
       "      <td>0.0</td>\n",
       "      <td>...</td>\n",
       "      <td>0</td>\n",
       "      <td>0</td>\n",
       "      <td>0</td>\n",
       "      <td>0</td>\n",
       "      <td>c4b763d9-2733-4d89-b889-3b2d92e8e2a1</td>\n",
       "      <td>NaN</td>\n",
       "      <td>NaN</td>\n",
       "      <td>NaN</td>\n",
       "      <td>NaN</td>\n",
       "      <td>NaN</td>\n",
       "    </tr>\n",
       "  </tbody>\n",
       "</table>\n",
       "<p>2 rows × 45 columns</p>\n",
       "</div>"
      ],
      "text/plain": [
       "   Unnamed: 0 joined_community_at community_type            goal  \\\n",
       "0           1 2020-01-17 15:50:00        running  running.health   \n",
       "1           2 2020-01-17 15:43:00        running    running.race   \n",
       "\n",
       "            community  metric_started_app_session_week1  \\\n",
       "0  The Run Experience                               1.0   \n",
       "1  The Run Experience                               1.0   \n",
       "\n",
       "   metric_started_app_session_week2  metric_started_app_session_week3  \\\n",
       "0                               1.0                               1.0   \n",
       "1                               1.0                               1.0   \n",
       "\n",
       "   metric_started_app_session_week4  \\\n",
       "0                               1.0   \n",
       "1                               1.0   \n",
       "\n",
       "   metric_complete_session_gettingstarted_week4  ...  \\\n",
       "0                                           1.0  ...   \n",
       "1                                           0.0  ...   \n",
       "\n",
       "   metric_session_start_day_0  metric_session_start_day_1_30  \\\n",
       "0                           1                              0   \n",
       "1                           0                              0   \n",
       "\n",
       "   metric_session_start_day_30_60 metric_session_start_day_60_up  \\\n",
       "0                               0                              0   \n",
       "1                               0                              0   \n",
       "\n",
       "                                    _id flag_startsession_b4_subs  \\\n",
       "0  bc03395a-222e-42d3-be3f-d88878b57640                       NaN   \n",
       "1  c4b763d9-2733-4d89-b889-3b2d92e8e2a1                       NaN   \n",
       "\n",
       "  flag_starttrial_b4_subs flag_companysession_b4_subs  \\\n",
       "0                     NaN                         NaN   \n",
       "1                     NaN                         NaN   \n",
       "\n",
       "  flag_compquickstart_b4_subs flag_enrolprgm_b4_subs  \n",
       "0                         NaN                    NaN  \n",
       "1                         NaN                    NaN  \n",
       "\n",
       "[2 rows x 45 columns]"
      ]
     },
     "execution_count": 3,
     "metadata": {},
     "output_type": "execute_result"
    }
   ],
   "source": [
    "# ongouser_modeling_ds-2.csv contains the subscription information\n",
    "df_x = pd.read_csv('ongouser_modeling_ds-2.csv', parse_dates=['joined_community_at','converted_to_started_subscription_at'])\n",
    "df_x.head(2)"
   ]
  },
  {
   "cell_type": "code",
   "execution_count": 4,
   "metadata": {},
   "outputs": [
    {
     "name": "stdout",
     "output_type": "stream",
     "text": [
      "Shape of Ongouser_modeling_ds rows: 19778, columns: 45\n"
     ]
    }
   ],
   "source": [
    "print(f'Shape of Ongouser_modeling_ds rows: {df_x.shape[0]}, columns: {df_x.shape[1]}')\n",
    "\n",
    "# Label the unique ids of ongouser with easy to read ids\n",
    "dicti = {}\n",
    "x=0\n",
    "for i in df_x['_id'].unique():  \n",
    "    dicti[i]=x\n",
    "    x+=1\n",
    "df_x['easy_id_4_subscription']=df_x['_id'].map(dicti)\n",
    "\n",
    "dicti2 = {}\n",
    "for index, row in df_x.iterrows():\n",
    "    dicti2[row['easy_id_4_subscription']]=row['joined_community_at']"
   ]
  },
  {
   "cell_type": "code",
   "execution_count": 5,
   "metadata": {},
   "outputs": [
    {
     "data": {
      "text/plain": [
       "user_id    762\n",
       "easy_id    591\n",
       "dtype: int64"
      ]
     },
     "execution_count": 5,
     "metadata": {},
     "output_type": "execute_result"
    }
   ],
   "source": [
    "# Create a new date mapped specific to each user (2 months after joining the community)\n",
    "# 2 months because we are trying to predict subscription 2 months after joining the community (Free-tier)\n",
    "df_x['2month_4m_joining'] = df_x.apply(lambda x: x['joined_community_at'] + pd.DateOffset(months = 2), axis=1)\n",
    "\n",
    "# Mapping the user_ids of OngouserActivity (dataframe To be aggregated) with same ids from other .csv\n",
    "df_z['easy_id']=df_z['user_id'].map(dicti)\n",
    "df_z[['user_id','easy_id']].nunique()"
   ]
  },
  {
   "cell_type": "markdown",
   "metadata": {},
   "source": [
    "Some owners (171) in activity_stream are not present in the Ongo-modeling data, so we have to remove them"
   ]
  },
  {
   "cell_type": "code",
   "execution_count": 6,
   "metadata": {},
   "outputs": [
    {
     "data": {
      "text/plain": [
       "user_id    591\n",
       "easy_id    591\n",
       "dtype: int64"
      ]
     },
     "execution_count": 6,
     "metadata": {},
     "output_type": "execute_result"
    }
   ],
   "source": [
    "df_z = df_z.dropna(subset=['easy_id'])\n",
    "df_z[['user_id','easy_id']].nunique()"
   ]
  },
  {
   "cell_type": "code",
   "execution_count": 7,
   "metadata": {},
   "outputs": [
    {
     "name": "stdout",
     "output_type": "stream",
     "text": [
      "Before selecting only common users, Ongouser_modeling data had rows: 19778 and columns: 47\n",
      "After selecting only common users, OngoModelling data had rows: 591 and columns: 47\n"
     ]
    }
   ],
   "source": [
    "# Startdate needs to be datetime column\n",
    "df_z['activity_datetime'] = pd.to_datetime(df_z['activity_datetime'], errors='coerce')\n",
    "# Timezone info has to be removed to compare datetime columns\n",
    "#df_z['activity_datetime'] = df_z['activity_datetime']#.dt.tz_convert(True)\n",
    "\n",
    "# finding common ids between Ongouser_modeling and OngoUser_Activity\n",
    "common_id_finding2 = df_z['easy_id'].to_list()\n",
    "filt = df_x['easy_id_4_subscription'].isin(common_id_finding2)\n",
    "print(f'Before selecting only common users, Ongouser_modeling data had rows: {df_x.shape[0]} and columns: {df_x.shape[1]}')\n",
    "common_agg_df_2 = df_x[filt]\n",
    "print(f'After selecting only common users, OngoModelling data had rows: {common_agg_df_2.shape[0]} and columns: {common_agg_df_2.shape[1]}')"
   ]
  },
  {
   "cell_type": "markdown",
   "metadata": {},
   "source": [
    "Users who has subscribed (my main target in the Ongouser_modeling data), we know their date of joining Ongo_community (`joined_community_at`) and their date of subscribing (`converted_to_started_subscription_at`). We need to see the activity of the subscribers (between these two dates) and Non-subscribers (for whatever timeframe data available for them {maximum 2 months is considered} as they never subscribed). So for that I need to filter out any data I have for subscribers beyond the subscription date."
   ]
  },
  {
   "cell_type": "code",
   "execution_count": 8,
   "metadata": {},
   "outputs": [
    {
     "name": "stdout",
     "output_type": "stream",
     "text": [
      "Total people who subscribed out of 591 Ongo users : 312\n"
     ]
    }
   ],
   "source": [
    "# Only considering the users that subscribed\n",
    "common_agg_df_3 = common_agg_df_2[common_agg_df_2['converted_to_started_subscription_at'].notna()]\n",
    "print(f'Total people who subscribed out of {common_agg_df_2.shape[0]} Ongo users : {common_agg_df_3.shape[0]}')"
   ]
  },
  {
   "cell_type": "markdown",
   "metadata": {},
   "source": [
    "Selecting the Subscribed users from **Ongouser_activity.csv** (only those rows that are between `joined_community_at` and `converted_to_started_ subscription_at` dates)"
   ]
  },
  {
   "cell_type": "code",
   "execution_count": 9,
   "metadata": {},
   "outputs": [
    {
     "data": {
      "application/vnd.jupyter.widget-view+json": {
       "model_id": "81c6187340d74962929360c16ee2680b",
       "version_major": 2,
       "version_minor": 0
      },
      "text/plain": [
       "HBox(children=(FloatProgress(value=1.0, bar_style='info', max=1.0), HTML(value='')))"
      ]
     },
     "metadata": {},
     "output_type": "display_data"
    },
    {
     "name": "stdout",
     "output_type": "stream",
     "text": [
      "\n"
     ]
    },
    {
     "data": {
      "text/plain": [
       "(90524, 9)"
      ]
     },
     "execution_count": 9,
     "metadata": {},
     "output_type": "execute_result"
    }
   ],
   "source": [
    "from tqdm import tqdm_notebook\n",
    "agg3 = [] \n",
    "for index1,row1 in tqdm_notebook(df_z.iterrows()):\n",
    "    for index2,row2 in common_agg_df_3.iterrows():\n",
    "        if row1['easy_id'] == row2['easy_id_4_subscription']:\n",
    "            if (row1['activity_datetime']<=row2['converted_to_started_subscription_at']):\n",
    "                if (row1['activity_datetime']<=row2['2month_4m_joining']):\n",
    "                    agg3.append(row1)\n",
    "                    \n",
    "# Subscribed user info from Ongouser_activity between joined_community_at & converted_to_started_ subscription_at dates\n",
    "agg3_df = pd.DataFrame(agg3)\n",
    "agg3_df.shape"
   ]
  },
  {
   "cell_type": "code",
   "execution_count": 10,
   "metadata": {},
   "outputs": [
    {
     "name": "stdout",
     "output_type": "stream",
     "text": [
      "Total people who did NOT subscribed out of 591 Ongo users : 279\n"
     ]
    }
   ],
   "source": [
    "# Only considering the users that DID NOT subscribe\n",
    "common_agg_df_4 = common_agg_df_2[common_agg_df_2['converted_to_started_subscription_at'].isna()]\n",
    "print(f'Total people who did NOT subscribed out of {common_agg_df_2.shape[0]} Ongo users : {common_agg_df_4.shape[0]}')"
   ]
  },
  {
   "cell_type": "markdown",
   "metadata": {},
   "source": [
    "Selecting the NON-Subscribed users from **Ongouser_activity.csv**, for them the range of timeframe would be 2 months."
   ]
  },
  {
   "cell_type": "code",
   "execution_count": 11,
   "metadata": {},
   "outputs": [
    {
     "data": {
      "application/vnd.jupyter.widget-view+json": {
       "model_id": "250140b5047c4fa3b06831d0c453eec5",
       "version_major": 2,
       "version_minor": 0
      },
      "text/plain": [
       "HBox(children=(FloatProgress(value=1.0, bar_style='info', max=1.0), HTML(value='')))"
      ]
     },
     "metadata": {},
     "output_type": "display_data"
    },
    {
     "name": "stdout",
     "output_type": "stream",
     "text": [
      "\n"
     ]
    },
    {
     "data": {
      "text/plain": [
       "(106655, 9)"
      ]
     },
     "execution_count": 11,
     "metadata": {},
     "output_type": "execute_result"
    }
   ],
   "source": [
    "agg4 = [] \n",
    "for index1,row1 in tqdm_notebook(df_z.iterrows()):\n",
    "    for index2,row2 in common_agg_df_4.iterrows():\n",
    "        if row1['easy_id'] == row2['easy_id_4_subscription']:\n",
    "            if (row1['activity_datetime']<=row2['2month_4m_joining']):\n",
    "                agg4.append(row1)\n",
    "                \n",
    "# NON-Subscribed user info from Ongouser Activity\n",
    "agg4_df = pd.DataFrame(agg4)\n",
    "agg4_df.shape"
   ]
  },
  {
   "cell_type": "markdown",
   "metadata": {},
   "source": [
    "Joining the rows from **Ongouser_activity.csv** for subscribers (between `joined_community_at` and `converted_to_started_ subscription_at` dates) and Non-subscribers"
   ]
  },
  {
   "cell_type": "code",
   "execution_count": 12,
   "metadata": {},
   "outputs": [
    {
     "data": {
      "text/plain": [
       "553"
      ]
     },
     "execution_count": 12,
     "metadata": {},
     "output_type": "execute_result"
    }
   ],
   "source": [
    "final_df2_2be_agg = agg3_df.append(agg4_df, ignore_index=True)\n",
    "# Remove this line later\n",
    "final_df2_2be_agg['easy_id'].nunique()"
   ]
  },
  {
   "cell_type": "code",
   "execution_count": 13,
   "metadata": {},
   "outputs": [
    {
     "name": "stdout",
     "output_type": "stream",
     "text": [
      "Overall shape of data that I need to aggregate, rows: 197179 and columns: 10\n"
     ]
    },
    {
     "data": {
      "text/html": [
       "<div>\n",
       "<style scoped>\n",
       "    .dataframe tbody tr th:only-of-type {\n",
       "        vertical-align: middle;\n",
       "    }\n",
       "\n",
       "    .dataframe tbody tr th {\n",
       "        vertical-align: top;\n",
       "    }\n",
       "\n",
       "    .dataframe thead th {\n",
       "        text-align: right;\n",
       "    }\n",
       "</style>\n",
       "<table border=\"1\" class=\"dataframe\">\n",
       "  <thead>\n",
       "    <tr style=\"text-align: right;\">\n",
       "      <th></th>\n",
       "      <th>Unnamed: 0</th>\n",
       "      <th>user_id</th>\n",
       "      <th>source</th>\n",
       "      <th>activity_datetime</th>\n",
       "      <th>activity</th>\n",
       "      <th>activity_occurrence</th>\n",
       "      <th>feature_1</th>\n",
       "      <th>feature_2</th>\n",
       "      <th>feature_3</th>\n",
       "      <th>easy_id</th>\n",
       "      <th>joined_community_at</th>\n",
       "    </tr>\n",
       "  </thead>\n",
       "  <tbody>\n",
       "    <tr>\n",
       "      <th>0</th>\n",
       "      <td>0</td>\n",
       "      <td>0f69074a-3822-4e9a-8424-20c28419528a</td>\n",
       "      <td>segment_tre</td>\n",
       "      <td>2019-08-30 01:32:16.491</td>\n",
       "      <td>became_adopted_user</td>\n",
       "      <td>1.0</td>\n",
       "      <td>30</td>\n",
       "      <td>NaN</td>\n",
       "      <td>NaN</td>\n",
       "      <td>16999.0</td>\n",
       "      <td>2019-08-16 16:18:00</td>\n",
       "    </tr>\n",
       "    <tr>\n",
       "      <th>1</th>\n",
       "      <td>1</td>\n",
       "      <td>ee75a716-67af-47c9-93de-618817bae00d</td>\n",
       "      <td>segment_tre</td>\n",
       "      <td>2019-09-06 16:51:47.062</td>\n",
       "      <td>became_adopted_user</td>\n",
       "      <td>1.0</td>\n",
       "      <td>30</td>\n",
       "      <td>NaN</td>\n",
       "      <td>NaN</td>\n",
       "      <td>14904.0</td>\n",
       "      <td>2019-09-02 17:23:00</td>\n",
       "    </tr>\n",
       "  </tbody>\n",
       "</table>\n",
       "</div>"
      ],
      "text/plain": [
       "   Unnamed: 0                               user_id       source  \\\n",
       "0           0  0f69074a-3822-4e9a-8424-20c28419528a  segment_tre   \n",
       "1           1  ee75a716-67af-47c9-93de-618817bae00d  segment_tre   \n",
       "\n",
       "         activity_datetime             activity  activity_occurrence  \\\n",
       "0  2019-08-30 01:32:16.491  became_adopted_user                  1.0   \n",
       "1  2019-09-06 16:51:47.062  became_adopted_user                  1.0   \n",
       "\n",
       "  feature_1 feature_2 feature_3  easy_id  joined_community_at  \n",
       "0        30       NaN       NaN  16999.0  2019-08-16 16:18:00  \n",
       "1        30       NaN       NaN  14904.0  2019-09-02 17:23:00  "
      ]
     },
     "execution_count": 13,
     "metadata": {},
     "output_type": "execute_result"
    }
   ],
   "source": [
    "final_df2_2be_agg['joined_community_at'] = final_df2_2be_agg['easy_id'].map(dicti2)\n",
    "print(f'Overall shape of data that I need to aggregate, rows: {final_df2_2be_agg.shape[0]} and columns: {final_df2_2be_agg.shape[1]}')\n",
    "\n",
    "final_df2_2be_agg.to_csv(\"clean_NewData.csv\", index=True)\n",
    "df2 = pd.read_csv('clean_NewData.csv')\n",
    "df2.head(2)"
   ]
  },
  {
   "cell_type": "markdown",
   "metadata": {},
   "source": [
    "**Next step: Aggregate this df, add binary (whether user synced their historic data from 3rd party integration) and other important features that separate the clusters to the aggregated data and then predict subscription**"
   ]
  },
  {
   "cell_type": "code",
   "execution_count": 14,
   "metadata": {},
   "outputs": [],
   "source": [
    "#### Next: Part C. 2. Aggregating_Ongo_UserActivity-Stream_with_AppleHealthKit_G.ipynb ####"
   ]
  }
 ],
 "metadata": {
  "kernelspec": {
   "display_name": "Python 3",
   "language": "python",
   "name": "python3"
  },
  "language_info": {
   "codemirror_mode": {
    "name": "ipython",
    "version": 3
   },
   "file_extension": ".py",
   "mimetype": "text/x-python",
   "name": "python",
   "nbconvert_exporter": "python",
   "pygments_lexer": "ipython3",
   "version": "3.7.4"
  }
 },
 "nbformat": 4,
 "nbformat_minor": 2
}
