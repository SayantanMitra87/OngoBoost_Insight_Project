{
 "cells": [
  {
   "cell_type": "markdown",
   "metadata": {},
   "source": [
    "**Purpose :** of this notebook is to aggregate the `Ongouser_activity_stream.csv`, after that add meaningful features from AppleHealthKit data (aggregated data) including a binary column-whether the customer shared their AppleHealthKit data or not. Then add another column-whether the customer subscribed or not from ongouser_modeling_ds-2.csv. Next step is feature reduction in notebook 3 of Part3."
   ]
  },
  {
   "cell_type": "code",
   "execution_count": 1,
   "metadata": {},
   "outputs": [],
   "source": [
    "# import libraries here; add more as necessary\n",
    "import warnings\n",
    "import numpy as np\n",
    "import pandas as pd\n",
    "import matplotlib.pyplot as plt\n",
    "import seaborn as sns\n",
    "import collections\n",
    "from sklearn.impute import SimpleImputer\n",
    "from sklearn.preprocessing import StandardScaler\n",
    "from sklearn.decomposition import PCA\n",
    "from sklearn.cluster import KMeans\n",
    "from termcolor import colored\n",
    "%matplotlib inline\n",
    "\n",
    "# Remove this later\n",
    "# ignore warnings\n",
    "warnings.filterwarnings('ignore')"
   ]
  },
  {
   "cell_type": "code",
   "execution_count": 2,
   "metadata": {},
   "outputs": [
    {
     "data": {
      "text/html": [
       "<div>\n",
       "<style scoped>\n",
       "    .dataframe tbody tr th:only-of-type {\n",
       "        vertical-align: middle;\n",
       "    }\n",
       "\n",
       "    .dataframe tbody tr th {\n",
       "        vertical-align: top;\n",
       "    }\n",
       "\n",
       "    .dataframe thead th {\n",
       "        text-align: right;\n",
       "    }\n",
       "</style>\n",
       "<table border=\"1\" class=\"dataframe\">\n",
       "  <thead>\n",
       "    <tr style=\"text-align: right;\">\n",
       "      <th></th>\n",
       "      <th>user_id</th>\n",
       "      <th>source</th>\n",
       "      <th>activity_datetime</th>\n",
       "      <th>activity</th>\n",
       "      <th>activity_occurrence</th>\n",
       "      <th>feature_1</th>\n",
       "      <th>feature_2</th>\n",
       "      <th>feature_3</th>\n",
       "      <th>easy_id</th>\n",
       "      <th>joined_community_at</th>\n",
       "    </tr>\n",
       "  </thead>\n",
       "  <tbody>\n",
       "    <tr>\n",
       "      <th>0</th>\n",
       "      <td>0f69074a-3822-4e9a-8424-20c28419528a</td>\n",
       "      <td>segment_tre</td>\n",
       "      <td>2019-08-30 01:32:16.491</td>\n",
       "      <td>became_adopted_user</td>\n",
       "      <td>1.0</td>\n",
       "      <td>30</td>\n",
       "      <td>NaN</td>\n",
       "      <td>NaN</td>\n",
       "      <td>16999.0</td>\n",
       "      <td>2019-08-16 16:18:00</td>\n",
       "    </tr>\n",
       "    <tr>\n",
       "      <th>1</th>\n",
       "      <td>ee75a716-67af-47c9-93de-618817bae00d</td>\n",
       "      <td>segment_tre</td>\n",
       "      <td>2019-09-06 16:51:47.062</td>\n",
       "      <td>became_adopted_user</td>\n",
       "      <td>1.0</td>\n",
       "      <td>30</td>\n",
       "      <td>NaN</td>\n",
       "      <td>NaN</td>\n",
       "      <td>14904.0</td>\n",
       "      <td>2019-09-02 17:23:00</td>\n",
       "    </tr>\n",
       "  </tbody>\n",
       "</table>\n",
       "</div>"
      ],
      "text/plain": [
       "                                user_id       source       activity_datetime  \\\n",
       "0  0f69074a-3822-4e9a-8424-20c28419528a  segment_tre 2019-08-30 01:32:16.491   \n",
       "1  ee75a716-67af-47c9-93de-618817bae00d  segment_tre 2019-09-06 16:51:47.062   \n",
       "\n",
       "              activity  activity_occurrence feature_1 feature_2 feature_3  \\\n",
       "0  became_adopted_user                  1.0        30       NaN       NaN   \n",
       "1  became_adopted_user                  1.0        30       NaN       NaN   \n",
       "\n",
       "   easy_id joined_community_at  \n",
       "0  16999.0 2019-08-16 16:18:00  \n",
       "1  14904.0 2019-09-02 17:23:00  "
      ]
     },
     "execution_count": 2,
     "metadata": {},
     "output_type": "execute_result"
    }
   ],
   "source": [
    "df = pd.read_csv('clean_NewData.csv', parse_dates=[\n",
    "                 'activity_datetime', 'joined_community_at'])\n",
    "df.drop(columns=['Unnamed: 0'], inplace=True)\n",
    "df.head(2)"
   ]
  },
  {
   "cell_type": "code",
   "execution_count": 3,
   "metadata": {},
   "outputs": [
    {
     "data": {
      "text/plain": [
       "<matplotlib.axes._subplots.AxesSubplot at 0x7f977a9d93d0>"
      ]
     },
     "execution_count": 3,
     "metadata": {},
     "output_type": "execute_result"
    },
    {
     "data": {
      "image/png": "[encoded data removed]",
      "text/plain": [
       "<Figure size 432x288 with 1 Axes>"
      ]
     },
     "metadata": {
      "needs_background": "light"
     },
     "output_type": "display_data"
    }
   ],
   "source": [
    "df.isna().sum().plot(kind='bar')"
   ]
  },
  {
   "cell_type": "markdown",
   "metadata": {},
   "source": [
    "* source, feature 1/2/3 contains missing values- Categorical features where missingness might have an impact on the target.\n",
    "* Best strategy to impute with `missing`"
   ]
  },
  {
   "cell_type": "code",
   "execution_count": 4,
   "metadata": {},
   "outputs": [
    {
     "data": {
      "text/plain": [
       "0"
      ]
     },
     "execution_count": 4,
     "metadata": {},
     "output_type": "execute_result"
    }
   ],
   "source": [
    "df.fillna('Missing', inplace=True)\n",
    "df.isna().sum().sum()"
   ]
  },
  {
   "cell_type": "code",
   "execution_count": 5,
   "metadata": {},
   "outputs": [
    {
     "data": {
      "text/plain": [
       "user_id                        object\n",
       "source                         object\n",
       "activity_datetime      datetime64[ns]\n",
       "activity                       object\n",
       "activity_occurrence            object\n",
       "feature_1                      object\n",
       "feature_2                      object\n",
       "feature_3                      object\n",
       "easy_id                       float64\n",
       "joined_community_at    datetime64[ns]\n",
       "dtype: object"
      ]
     },
     "execution_count": 5,
     "metadata": {},
     "output_type": "execute_result"
    }
   ],
   "source": [
    "df.dtypes"
   ]
  },
  {
   "cell_type": "code",
   "execution_count": 6,
   "metadata": {},
   "outputs": [
    {
     "data": {
      "text/plain": [
       "Timedelta('60 days 23:50:05.632000')"
      ]
     },
     "execution_count": 6,
     "metadata": {},
     "output_type": "execute_result"
    }
   ],
   "source": [
    "# confirming max duration for user data is for 2 months\n",
    "(df['activity_datetime'] - df['joined_community_at']).max()"
   ]
  },
  {
   "cell_type": "markdown",
   "metadata": {},
   "source": [
    "### Generating columns to engineer weekly and monthly aggregated features "
   ]
  },
  {
   "cell_type": "code",
   "execution_count": 7,
   "metadata": {},
   "outputs": [],
   "source": [
    "# Months\n",
    "df['1month_4m_joining'] = df.apply(\n",
    "    lambda x: x['joined_community_at'] + pd.DateOffset(months=1), axis=1)\n",
    "df['2month_4m_joining'] = df.apply(\n",
    "    lambda x: x['joined_community_at'] + pd.DateOffset(months=2), axis=1)\n",
    "# Weeks\n",
    "df['1week_4m_joining'] = df.apply(\n",
    "    lambda x: x['joined_community_at'] + pd.DateOffset(weeks=1), axis=1)\n",
    "df['2week_4m_joining'] = df.apply(\n",
    "    lambda x: x['joined_community_at'] + pd.DateOffset(weeks=2), axis=1)\n",
    "df['3week_4m_joining'] = df.apply(\n",
    "    lambda x: x['joined_community_at'] + pd.DateOffset(weeks=3), axis=1)\n",
    "df['4week_4m_joining'] = df.apply(\n",
    "    lambda x: x['joined_community_at'] + pd.DateOffset(weeks=4), axis=1)\n",
    "df['5week_4m_joining'] = df.apply(\n",
    "    lambda x: x['joined_community_at'] + pd.DateOffset(weeks=5), axis=1)\n",
    "df['6week_4m_joining'] = df.apply(\n",
    "    lambda x: x['joined_community_at'] + pd.DateOffset(weeks=6), axis=1)\n",
    "df['7week_4m_joining'] = df.apply(\n",
    "    lambda x: x['joined_community_at'] + pd.DateOffset(weeks=7), axis=1)\n",
    "df['8week_4m_joining'] = df.apply(\n",
    "    lambda x: x['joined_community_at'] + pd.DateOffset(weeks=8), axis=1)\n",
    "# Generating weekend column\n",
    "df['weekend'] = df['activity_datetime'].dt.weekday_name\n",
    "df['weekend'] = df['weekend'].apply(\n",
    "    lambda x: 1 if x in['Saturday', 'Sunday'] else 0)"
   ]
  },
  {
   "cell_type": "markdown",
   "metadata": {},
   "source": [
    "### Column: Source "
   ]
  },
  {
   "cell_type": "code",
   "execution_count": 8,
   "metadata": {},
   "outputs": [
    {
     "data": {
      "text/plain": [
       "Missing        0.668976\n",
       "segment_tre    0.192130\n",
       "segment_ios    0.138894\n",
       "Name: source, dtype: float64"
      ]
     },
     "execution_count": 8,
     "metadata": {},
     "output_type": "execute_result"
    }
   ],
   "source": [
    "# Different elements in source column\n",
    "df['source'].value_counts(normalize=True)"
   ]
  },
  {
   "cell_type": "code",
   "execution_count": 9,
   "metadata": {},
   "outputs": [
    {
     "data": {
      "text/plain": [
       "(553, 44)"
      ]
     },
     "execution_count": 9,
     "metadata": {},
     "output_type": "execute_result"
    }
   ],
   "source": [
    "# Total source over the timeframe\n",
    "df_source_total = df.groupby('easy_id').agg({'source': ['count']})\n",
    "df_source_total.columns = ['Total_source']\n",
    "\n",
    "\n",
    "def aggregate_cols(col, df):\n",
    "    '''\n",
    "    Purpose of this function is to aggregate various user activities for different timeframes from the time they \n",
    "    join the app to the time they subscribe (with a limit of 2 months)\n",
    "    '''\n",
    "    filt_1month = (df['activity_datetime'] <= df['1month_4m_joining'])\n",
    "    filt_2month = (df['activity_datetime'] > df['1month_4m_joining']) & (\n",
    "        df['activity_datetime'] <= df['2month_4m_joining'])\n",
    "    filt_1week = (df['activity_datetime'] <= df['1week_4m_joining'])\n",
    "    filt_2week = (df['activity_datetime'] > df['1week_4m_joining']) & (\n",
    "        df['activity_datetime'] <= df['2week_4m_joining'])\n",
    "    filt_3week = (df['activity_datetime'] > df['2week_4m_joining']) & (\n",
    "        df['activity_datetime'] <= df['3week_4m_joining'])\n",
    "    filt_4week = (df['activity_datetime'] > df['3week_4m_joining']) & (\n",
    "        df['activity_datetime'] <= df['4week_4m_joining'])\n",
    "    filt_5week = (df['activity_datetime'] > df['4week_4m_joining']) & (\n",
    "        df['activity_datetime'] <= df['5week_4m_joining'])\n",
    "    filt_6week = (df['activity_datetime'] > df['5week_4m_joining']) & (\n",
    "        df['activity_datetime'] <= df['6week_4m_joining'])\n",
    "    filt_7week = (df['activity_datetime'] > df['6week_4m_joining']) & (\n",
    "        df['activity_datetime'] <= df['7week_4m_joining'])\n",
    "    filt_8week = (df['activity_datetime'] > df['7week_4m_joining']) & (\n",
    "        df['activity_datetime'] <= df['8week_4m_joining'])\n",
    "    df_weekday = df[df['weekend'] == 0]\n",
    "    df_weekend = df[df['weekend'] == 1]\n",
    "\n",
    "    filts = [filt_1month, filt_2month, filt_1week, filt_2week, filt_3week, filt_4week, filt_5week, filt_6week,\n",
    "             filt_7week, filt_8week, df_weekday, df_weekend]\n",
    "\n",
    "    df_list = []\n",
    "    for i in range(len(filts)):\n",
    "        # Monthly aggregated data\n",
    "        if i < 2:\n",
    "            df_x = df[filts[i]]\n",
    "            df2 = df_x.groupby('easy_id')[col].value_counts().unstack()\n",
    "            df2.columns = [col1+'_'+str(col)+'_Month'+str(i+1)\n",
    "                           for col1 in df2.columns]\n",
    "            df_list.append(df2)\n",
    "            df2_total = pd.DataFrame(df2.sum(axis=1))\n",
    "            df2_total.columns = [\n",
    "                str(col)+'_Month'+str(i+1)+'_Total' for col1 in df2_total.columns]\n",
    "            df_list.append(df2_total)\n",
    "        # Weekly aggregated data\n",
    "        if (i > 1) & (i <= 9):\n",
    "            df_x = df[filts[i]]\n",
    "            df2 = df_x.groupby('easy_id')[col].value_counts().unstack()\n",
    "            df2.columns = [col1+'_'+str(col)+'_Week'+str(i-1)\n",
    "                           for col1 in df2.columns]\n",
    "            df_list.append(df2)\n",
    "            df2_total = pd.DataFrame(df2.sum(axis=1))\n",
    "            df2_total.columns = [\n",
    "                str(col)+'_Week'+str(i-1)+'_Total' for col1 in df2_total.columns]\n",
    "            df_list.append(df2_total)\n",
    "        # Weekday-weekend aggregated data\n",
    "        if i == 10:\n",
    "            df_x = filts[i].groupby('easy_id').agg(\n",
    "                {'weekend': ['count', 'nunique']})\n",
    "            df_x.reset_index()\n",
    "            df_x.columns = [str(col)+'_Weekday_'+str(col1[1]) +\n",
    "                            '_Total' for col1 in df_x.columns]\n",
    "            df_list.append(df_x)\n",
    "        if i == 11:\n",
    "            df_x = filts[i].groupby('easy_id').agg(\n",
    "                {'weekend': ['count', 'nunique']})\n",
    "            df_x.reset_index()\n",
    "            df_x.columns = [str(col)+'_Weekday_'+str(col1[1]) +\n",
    "                            '_Total' for col1 in df_x.columns]\n",
    "            df_list.append(df_x)\n",
    "    return df_list\n",
    "\n",
    "\n",
    "# source: over months,weeks, and weekends\n",
    "df_source = aggregate_cols(col='source', df=df)\n",
    "data2 = [x for x in df_source]\n",
    "data_source = pd.concat(data2, axis=1)\n",
    "# df_source_total\n",
    "data_source.shape"
   ]
  },
  {
   "cell_type": "markdown",
   "metadata": {},
   "source": [
    "### Column: Activity"
   ]
  },
  {
   "cell_type": "code",
   "execution_count": 10,
   "metadata": {},
   "outputs": [
    {
     "data": {
      "text/plain": [
       "(553, 194)"
      ]
     },
     "execution_count": 10,
     "metadata": {},
     "output_type": "execute_result"
    }
   ],
   "source": [
    "# Need to aggregate elements, several less frequent activities\n",
    "df_activity_value_counts = df['activity'].value_counts(normalize=True)\n",
    "top_activites = df_activity_value_counts[df_activity_value_counts > 0.0047].index.to_list()\n",
    "df['main_activity'] = df['activity'][df['activity'].isin(top_activites)]\n",
    "df['main_activity'].fillna('Other', inplace=True)\n",
    "\n",
    "# Total activity over the timeframe\n",
    "df_activity_total = df.groupby('easy_id').agg({'main_activity': ['count']})\n",
    "df_activity_total.columns = ['Main_activity_count_Total']\n",
    "# Main Activities over months, weeks, weekends\n",
    "df_main_activity = aggregate_cols(col='main_activity', df=df)\n",
    "data3 = [x for x in df_main_activity]\n",
    "data_main_activities = pd.concat(data3, axis=1)\n",
    "data_main_activities.shape"
   ]
  },
  {
   "cell_type": "markdown",
   "metadata": {},
   "source": [
    "### Column: Feature_1"
   ]
  },
  {
   "cell_type": "code",
   "execution_count": 11,
   "metadata": {},
   "outputs": [
    {
     "data": {
      "text/plain": [
       "(553, 144)"
      ]
     },
     "execution_count": 11,
     "metadata": {},
     "output_type": "execute_result"
    }
   ],
   "source": [
    "# Grouping less frequent elements taht could be put together\n",
    "# Anything with an 'error'\n",
    "filt = df['feature_1'].str.contains(r'error')\n",
    "df.loc[filt, 'feature_1'] = 'error'\n",
    "# Anything with a fitness\n",
    "filt2 = df['feature_1'].str.contains(\n",
    "    r'fitness|training|Run|run|Fitness|Training|Workout|workout')\n",
    "df.loc[filt2, 'feature_1'] = 'fitness-training'\n",
    "\n",
    "# Need to aggregate elements, several less frequent activities\n",
    "df_feature1_value_counts = df['feature_1'].value_counts(normalize=True)\n",
    "top_feature1 = df_feature1_value_counts[df_feature1_value_counts > 0.01].index.to_list()\n",
    "df['feature_1_1'] = df['feature_1'][df['feature_1'].isin(top_feature1)]\n",
    "df['feature_1_1'].fillna('Other', inplace=True)\n",
    "\n",
    "# Total feature1_1 over the timeframe\n",
    "df_feature1_1_total = df.groupby('easy_id').agg(\n",
    "    {'feature_1_1': ['count', 'nunique']})\n",
    "df_feature1_1_total.columns = [\n",
    "    'Feature1_1_count_Total', 'Feature1_1_count_nUnique']\n",
    "# Different Feature1 over months, weeks, weekends\n",
    "df_feature_1_1 = aggregate_cols(col='feature_1_1', df=df)\n",
    "data4 = [x for x in df_feature_1_1]\n",
    "data_feature_1_1 = pd.concat(data4, axis=1)\n",
    "data_feature_1_1.shape"
   ]
  },
  {
   "cell_type": "markdown",
   "metadata": {},
   "source": [
    "### Column: Feature_2\n",
    "Data narrators NOT sure what this is, having several infrequent element and also missing values. I would like to check if model suggests missingness has any impact on subscription"
   ]
  },
  {
   "cell_type": "code",
   "execution_count": 12,
   "metadata": {},
   "outputs": [],
   "source": [
    "df['feature_2_1'] = df['feature_2'].map(lambda x: 1 if x is 'Missing' else 0)\n",
    "df['feature_2_1'] = df['feature_2_1'].map({1: 'Missing', 0: 'Not-Misisng'})"
   ]
  },
  {
   "cell_type": "code",
   "execution_count": 13,
   "metadata": {},
   "outputs": [
    {
     "data": {
      "text/plain": [
       "(553, 34)"
      ]
     },
     "execution_count": 13,
     "metadata": {},
     "output_type": "execute_result"
    }
   ],
   "source": [
    "# Count-Unique Feature 2 per user\n",
    "df_feature2_total = df.groupby('easy_id').agg(\n",
    "    {'feature_2': ['count', 'nunique']})\n",
    "df_feature2_total.columns = ['Feature_2_count_Total', 'Feature_2_nunique']\n",
    "\n",
    "# Missing vs Not-missing\n",
    "df_feature_2_1 = df.groupby('easy_id').feature_2_1.value_counts().unstack()\n",
    "df_feature_2_1.columns = [\n",
    "    'df_feature_2_1_missing', 'df_feature_2_1_notMissing']\n",
    "\n",
    "# Different Feature2 over months, weeks, weekends\n",
    "df_feature_2_MW = aggregate_cols(col='feature_2_1', df=df)\n",
    "data5 = [x for x in df_feature_2_MW]\n",
    "data_feature2_1_MW = pd.concat(data5, axis=1)\n",
    "data_feature2_1_MW.shape"
   ]
  },
  {
   "cell_type": "markdown",
   "metadata": {},
   "source": [
    "### Column: Feature_3"
   ]
  },
  {
   "cell_type": "code",
   "execution_count": 14,
   "metadata": {},
   "outputs": [],
   "source": [
    "df['feature_3_1'] = df['feature_3'].map(lambda x: 1 if x is 'Missing' else 0)\n",
    "df['feature_3_1'] = df['feature_3_1'].map({1: 'Missing', 0: 'Not-Misisng'})"
   ]
  },
  {
   "cell_type": "code",
   "execution_count": 15,
   "metadata": {},
   "outputs": [
    {
     "data": {
      "text/plain": [
       "(553, 34)"
      ]
     },
     "execution_count": 15,
     "metadata": {},
     "output_type": "execute_result"
    }
   ],
   "source": [
    "# Count-Unique Feature 3 per user\n",
    "df_feature3_total = df.groupby('easy_id').agg(\n",
    "    {'feature_3': ['count', 'nunique']})\n",
    "df_feature3_total.columns = ['Feature_3_count_Total', 'Feature_3_nunique']\n",
    "\n",
    "# Missing vs Not-missing\n",
    "df_feature_3_1 = df.groupby('easy_id').feature_3_1.value_counts().unstack()\n",
    "df_feature_3_1.columns = [\n",
    "    'df_feature_3_1_missing', 'df_feature_3_1_notMissing']\n",
    "\n",
    "# Different Feature3 over months, weeks, weekends\n",
    "df_feature_3_MW = aggregate_cols(col='feature_3_1', df=df)\n",
    "data6 = [x for x in df_feature_3_MW]\n",
    "data_feature3_MW = pd.concat(data6, axis=1)\n",
    "data_feature3_MW.shape"
   ]
  },
  {
   "cell_type": "markdown",
   "metadata": {},
   "source": [
    "### Columns: activity_occurance"
   ]
  },
  {
   "cell_type": "code",
   "execution_count": 16,
   "metadata": {},
   "outputs": [],
   "source": [
    "filt = df['activity_occurrence'] == 'Missing'\n",
    "df.loc[filt, 'activity_occurrence'] = 0"
   ]
  },
  {
   "cell_type": "code",
   "execution_count": 17,
   "metadata": {},
   "outputs": [
    {
     "data": {
      "text/plain": [
       "(553, 54)"
      ]
     },
     "execution_count": 17,
     "metadata": {},
     "output_type": "execute_result"
    }
   ],
   "source": [
    "def activity_occurence(df, col):\n",
    "    aggregations = ['count', 'sum', 'std']\n",
    "    # df['activity_occurrence'].astype('int')\n",
    "    df_list = []\n",
    "    for i in range(len(aggregations)):\n",
    "        df_new = pd.pivot_table(index='easy_id', columns=col,\n",
    "                                values='activity_occurrence', aggfunc=aggregations[i], data=df)\n",
    "        df_new.columns = [str(\n",
    "            col)+'_main_activity_vs_activity_occurence_'+str(aggregations[i]) for col in df_new]\n",
    "        df_list.append(df_new)\n",
    "    return df_list\n",
    "\n",
    "\n",
    "ac_occurence = activity_occurence(df=df, col='main_activity')\n",
    "data7 = [x for x in ac_occurence]\n",
    "ac_occurence = pd.concat(data7, axis=1)\n",
    "ac_occurence.shape"
   ]
  },
  {
   "cell_type": "code",
   "execution_count": 18,
   "metadata": {},
   "outputs": [
    {
     "name": "stdout",
     "output_type": "stream",
     "text": [
      "(553, 594)\n"
     ]
    }
   ],
   "source": [
    "def activity_occurence_MW(col, df):\n",
    "    '''\n",
    "    Purpose of this function is to make pivot_tables for finding activity occurences of specific \n",
    "    main activities for different timeframes from the time they join the app to the time they \n",
    "    subscribe (with a limit of 2 months)\n",
    "\n",
    "    '''\n",
    "    filt_1month = (df['activity_datetime'] <= df['1month_4m_joining'])\n",
    "    filt_2month = (df['activity_datetime'] > df['1month_4m_joining']) & (\n",
    "        df['activity_datetime'] <= df['2month_4m_joining'])\n",
    "    filt_1week = (df['activity_datetime'] <= df['1week_4m_joining'])\n",
    "    filt_2week = (df['activity_datetime'] > df['1week_4m_joining']) & (\n",
    "        df['activity_datetime'] <= df['2week_4m_joining'])\n",
    "    filt_3week = (df['activity_datetime'] > df['2week_4m_joining']) & (\n",
    "        df['activity_datetime'] <= df['3week_4m_joining'])\n",
    "    filt_4week = (df['activity_datetime'] > df['3week_4m_joining']) & (\n",
    "        df['activity_datetime'] <= df['4week_4m_joining'])\n",
    "    filt_5week = (df['activity_datetime'] > df['4week_4m_joining']) & (\n",
    "        df['activity_datetime'] <= df['5week_4m_joining'])\n",
    "    filt_6week = (df['activity_datetime'] > df['5week_4m_joining']) & (\n",
    "        df['activity_datetime'] <= df['6week_4m_joining'])\n",
    "    filt_7week = (df['activity_datetime'] > df['6week_4m_joining']) & (\n",
    "        df['activity_datetime'] <= df['7week_4m_joining'])\n",
    "    filt_8week = (df['activity_datetime'] > df['7week_4m_joining']) & (\n",
    "        df['activity_datetime'] <= df['8week_4m_joining'])\n",
    "\n",
    "    filts = [filt_1month, filt_2month, filt_1week, filt_2week, filt_3week, filt_4week, filt_5week, filt_6week,\n",
    "             filt_7week, filt_8week]\n",
    "    aggregations = ['count', 'sum', 'std']\n",
    "\n",
    "    df_list = []\n",
    "    for i in range(len(filts)):\n",
    "        # Monthly aggregated data\n",
    "        if i < 2:\n",
    "            df_x = df[filts[i]]\n",
    "            for n in range(len(aggregations)):\n",
    "                df_new = pd.pivot_table(index='easy_id', columns=col,\n",
    "                                        values='activity_occurrence', aggfunc=aggregations[n], data=df_x)\n",
    "                df_new.columns = [str(col)+'_main_activity_vs_activity_occurence_'+str(\n",
    "                    aggregations[n])+'_Month'+str(i+1) for col in df_new]\n",
    "                df_list.append(df_new)\n",
    "\n",
    "                df_new_total = pd.DataFrame(df_new.sum(axis=1))\n",
    "                df_new_total.columns = [str(col)+'_main_activity_vs_activity_occurence_'+str(\n",
    "                    aggregations[n])+'_Month'+'_Total'+str(i+1) for col1 in df_new_total.columns]\n",
    "                df_list.append(df_new_total)\n",
    "\n",
    "        # Weekly aggregated data\n",
    "        if (i > 1) & (i <= 9):\n",
    "            df_x = df[filts[i]]\n",
    "            for n in range(len(aggregations)):\n",
    "                df_new = pd.pivot_table(index='easy_id', columns=col,\n",
    "                                        values='activity_occurrence', aggfunc=aggregations[n], data=df_x)\n",
    "                df_new.columns = [str(col)+'_main_activity_vs_activity_occurence_'+str(\n",
    "                    aggregations[n])+'_Week'+str(i-1) for col in df_new]\n",
    "                df_list.append(df_new)\n",
    "\n",
    "                df_new_total = pd.DataFrame(df_new.sum(axis=1))\n",
    "                df_new_total.columns = [str(col)+'_main_activity_vs_activity_occurence_'+str(\n",
    "                    aggregations[n])+'_Week'+'_Total'+str(i-1) for col1 in df_new_total.columns]\n",
    "                df_list.append(df_new_total)\n",
    "                df_list.append(df_new_total)\n",
    "    return df_list\n",
    "\n",
    "\n",
    "df_activity_occurence_MW = activity_occurence_MW(col='main_activity', df=df)\n",
    "data8 = [x for x in df_activity_occurence_MW]\n",
    "df_activity_occurence_MW = pd.concat(data8, axis=1)\n",
    "print(df_activity_occurence_MW.shape)\n",
    "\n",
    "# Weekday-weekend aggregated data\n",
    "df_weekday = df.pivot_table(\n",
    "    index='easy_id', columns='weekend', values='activity_occurrence', aggfunc='sum')\n",
    "df_weekday.columns = ['Avg_Weekday_Count_Total', 'Avg_Weekend_Count_Total']\n",
    "# Averaging activity occurence over weekday and weekend\n",
    "df_weekday['Avg_Weekday_Count_Total'] = df_weekday['Avg_Weekday_Count_Total']/5\n",
    "df_weekday['Avg_Weekend_Count_Total'] = df_weekday['Avg_Weekend_Count_Total']/2"
   ]
  },
  {
   "cell_type": "code",
   "execution_count": 19,
   "metadata": {},
   "outputs": [
    {
     "data": {
      "text/plain": [
       "(553, 1112)"
      ]
     },
     "execution_count": 19,
     "metadata": {},
     "output_type": "execute_result"
    }
   ],
   "source": [
    "df_total = pd.concat([data_source, df_source_total, df_activity_total, data_main_activities,\n",
    "                      df_feature1_1_total, data_feature_1_1, df_feature2_total, df_feature_2_1,\n",
    "                      data_feature2_1_MW, df_feature3_total, df_feature_3_1, data_feature3_MW, ac_occurence,\n",
    "                      df_activity_occurence_MW, df_weekday], axis=1)\n",
    "df_total.shape"
   ]
  },
  {
   "cell_type": "markdown",
   "metadata": {},
   "source": [
    "## Incorporating data from synced AppleHealthKit Data\n",
    "Rules: shared data: 1, not shared:0 #cluster: 0, cluster:1, rest:Missing - categorical<br>\n",
    "Top features that helped to separate individuals into different clusters"
   ]
  },
  {
   "cell_type": "code",
   "execution_count": 20,
   "metadata": {},
   "outputs": [],
   "source": [
    "df = pd.read_csv('clean_NewData.csv', parse_dates=[\n",
    "                 'activity_datetime', 'joined_community_at'])\n",
    "df.drop(columns=['Unnamed: 0'], inplace=True)\n",
    "\n",
    "dicti = {}\n",
    "for i in df['user_id'].unique():\n",
    "    filt = df['user_id'] == i\n",
    "    dicti[i] = df.loc[filt, 'easy_id'].unique()[0]\n",
    "\n",
    "dicti2 = {}\n",
    "for i in df['easy_id'].unique():\n",
    "    filt = df['easy_id'] == i\n",
    "    dicti2[i] = df.loc[filt, 'user_id'].unique()[0]"
   ]
  },
  {
   "cell_type": "code",
   "execution_count": 21,
   "metadata": {},
   "outputs": [
    {
     "data": {
      "text/html": [
       "<div>\n",
       "<style scoped>\n",
       "    .dataframe tbody tr th:only-of-type {\n",
       "        vertical-align: middle;\n",
       "    }\n",
       "\n",
       "    .dataframe tbody tr th {\n",
       "        vertical-align: top;\n",
       "    }\n",
       "\n",
       "    .dataframe thead th {\n",
       "        text-align: right;\n",
       "    }\n",
       "</style>\n",
       "<table border=\"1\" class=\"dataframe\">\n",
       "  <thead>\n",
       "    <tr style=\"text-align: right;\">\n",
       "      <th></th>\n",
       "      <th>_id</th>\n",
       "      <th>owner</th>\n",
       "      <th>easy_id</th>\n",
       "      <th>source</th>\n",
       "      <th>type</th>\n",
       "      <th>startdate</th>\n",
       "      <th>enddate</th>\n",
       "      <th>value</th>\n",
       "      <th>continent</th>\n",
       "      <th>city</th>\n",
       "    </tr>\n",
       "  </thead>\n",
       "  <tbody>\n",
       "    <tr>\n",
       "      <th>0</th>\n",
       "      <td>013dbe8e-4388-571a-a475-46cdccb95124</td>\n",
       "      <td>f9946d46-0b26-444c-bf9f-d6322c0c0ce7</td>\n",
       "      <td>0</td>\n",
       "      <td>apple</td>\n",
       "      <td>health-heart-rate</td>\n",
       "      <td>2019-05-03 14:53:31.783</td>\n",
       "      <td>2019-05-03 14:53:31.783</td>\n",
       "      <td>100.000000</td>\n",
       "      <td>America</td>\n",
       "      <td>New_York</td>\n",
       "    </tr>\n",
       "    <tr>\n",
       "      <th>1</th>\n",
       "      <td>01cfa004-e070-59a9-9044-a33df3d0e5ed</td>\n",
       "      <td>f9946d46-0b26-444c-bf9f-d6322c0c0ce7</td>\n",
       "      <td>0</td>\n",
       "      <td>apple</td>\n",
       "      <td>health-step-distance</td>\n",
       "      <td>2019-06-28 16:59:51.148</td>\n",
       "      <td>2019-06-28 16:59:53.706</td>\n",
       "      <td>2.549228</td>\n",
       "      <td>America</td>\n",
       "      <td>New_York</td>\n",
       "    </tr>\n",
       "  </tbody>\n",
       "</table>\n",
       "</div>"
      ],
      "text/plain": [
       "                                    _id                                 owner  \\\n",
       "0  013dbe8e-4388-571a-a475-46cdccb95124  f9946d46-0b26-444c-bf9f-d6322c0c0ce7   \n",
       "1  01cfa004-e070-59a9-9044-a33df3d0e5ed  f9946d46-0b26-444c-bf9f-d6322c0c0ce7   \n",
       "\n",
       "   easy_id source                  type               startdate  \\\n",
       "0        0  apple     health-heart-rate 2019-05-03 14:53:31.783   \n",
       "1        0  apple  health-step-distance 2019-06-28 16:59:51.148   \n",
       "\n",
       "                  enddate       value continent      city  \n",
       "0 2019-05-03 14:53:31.783  100.000000   America  New_York  \n",
       "1 2019-06-28 16:59:53.706    2.549228   America  New_York  "
      ]
     },
     "execution_count": 21,
     "metadata": {},
     "output_type": "execute_result"
    }
   ],
   "source": [
    "# AppleHealthData\n",
    "df_x = pd.read_csv(\"df_clean.csv\", parse_dates=[\"startdate\", \"enddate\"])\n",
    "df_x.head(2)"
   ]
  },
  {
   "cell_type": "code",
   "execution_count": 22,
   "metadata": {},
   "outputs": [],
   "source": [
    "df_x['easy_id2'] = df_x['owner'].map(dicti)\n",
    "df_z = df_x.loc[:, ['owner', 'easy_id2']]\n",
    "df_z2 = df_z[df_z['easy_id2'].notna()]\n",
    "\n",
    "# People who synced AppleHealthKitData\n",
    "synced_data = df_z2['easy_id2'].to_list()\n",
    "# Integrating that into the engineered aggregated data\n",
    "df_total['shared_apple_data'] = df_total.index.isin(synced_data)\n",
    "df_total['shared_apple_data'] = df_total['shared_apple_data'].map({\n",
    "                                                                  True: 1, False: 0})"
   ]
  },
  {
   "cell_type": "code",
   "execution_count": 23,
   "metadata": {},
   "outputs": [],
   "source": [
    "# Adding more data from aggregated ApplehealthKit # clusters # columns that segregate the clusters well\n",
    "df_apple_agg = pd.read_csv('df_2_add_2_DataWorkoutRun.csv')\n",
    "df_apple_agg['easy_id2'] = df_apple_agg['owner'].map(dicti)\n",
    "df_apple_agg_selected = df_apple_agg[df_apple_agg['easy_id2'].notna()]\n",
    "df_apple_agg_selected.index = df_apple_agg_selected['easy_id2']\n",
    "df_apple_agg_selected = df_apple_agg_selected.drop(\n",
    "    columns=['easy_id', 'owner', 'easy_id2'])\n",
    "\n",
    "# Total data from all aggregated columns from DataWorkOutRun and AppleHealthKitData (for sync in users)\n",
    "df_total = pd.concat([df_total, df_apple_agg_selected], axis=1)\n",
    "# Removing missing values\n",
    "df_total['kmeans_pred'] = df_total['kmeans_pred'].fillna('Missing')"
   ]
  },
  {
   "cell_type": "code",
   "execution_count": 24,
   "metadata": {},
   "outputs": [
    {
     "data": {
      "text/html": [
       "<div>\n",
       "<style scoped>\n",
       "    .dataframe tbody tr th:only-of-type {\n",
       "        vertical-align: middle;\n",
       "    }\n",
       "\n",
       "    .dataframe tbody tr th {\n",
       "        vertical-align: top;\n",
       "    }\n",
       "\n",
       "    .dataframe thead th {\n",
       "        text-align: right;\n",
       "    }\n",
       "</style>\n",
       "<table border=\"1\" class=\"dataframe\">\n",
       "  <thead>\n",
       "    <tr style=\"text-align: right;\">\n",
       "      <th></th>\n",
       "      <th>Missing_source_Month1</th>\n",
       "      <th>segment_ios_source_Month1</th>\n",
       "      <th>segment_tre_source_Month1</th>\n",
       "      <th>source_Month1_Total</th>\n",
       "      <th>Missing_source_Month2</th>\n",
       "      <th>segment_ios_source_Month2</th>\n",
       "      <th>segment_tre_source_Month2</th>\n",
       "      <th>source_Month2_Total</th>\n",
       "      <th>Missing_source_Week1</th>\n",
       "      <th>segment_ios_source_Week1</th>\n",
       "      <th>...</th>\n",
       "      <th>Total_activity_weekday</th>\n",
       "      <th>health-step-distance_Total.2</th>\n",
       "      <th>Other_health-step-count</th>\n",
       "      <th>apple_health-flights-climbed</th>\n",
       "      <th>health-flights-climbed_Total.2</th>\n",
       "      <th>health-step-distance_Total.3</th>\n",
       "      <th>1_health-step-count</th>\n",
       "      <th>health-step-count_Total.3</th>\n",
       "      <th>kmeans_pred</th>\n",
       "      <th>owner</th>\n",
       "    </tr>\n",
       "  </thead>\n",
       "  <tbody>\n",
       "    <tr>\n",
       "      <th>0</th>\n",
       "      <td>408.0</td>\n",
       "      <td>135.0</td>\n",
       "      <td>NaN</td>\n",
       "      <td>543.0</td>\n",
       "      <td>NaN</td>\n",
       "      <td>NaN</td>\n",
       "      <td>NaN</td>\n",
       "      <td>NaN</td>\n",
       "      <td>408.0</td>\n",
       "      <td>135.0</td>\n",
       "      <td>...</td>\n",
       "      <td>NaN</td>\n",
       "      <td>NaN</td>\n",
       "      <td>NaN</td>\n",
       "      <td>NaN</td>\n",
       "      <td>NaN</td>\n",
       "      <td>NaN</td>\n",
       "      <td>NaN</td>\n",
       "      <td>NaN</td>\n",
       "      <td>Missing</td>\n",
       "      <td>0dfd864a-516c-4bdf-988d-d7536083aa6a</td>\n",
       "    </tr>\n",
       "    <tr>\n",
       "      <th>1</th>\n",
       "      <td>42.0</td>\n",
       "      <td>69.0</td>\n",
       "      <td>NaN</td>\n",
       "      <td>111.0</td>\n",
       "      <td>NaN</td>\n",
       "      <td>NaN</td>\n",
       "      <td>NaN</td>\n",
       "      <td>NaN</td>\n",
       "      <td>42.0</td>\n",
       "      <td>69.0</td>\n",
       "      <td>...</td>\n",
       "      <td>NaN</td>\n",
       "      <td>NaN</td>\n",
       "      <td>NaN</td>\n",
       "      <td>NaN</td>\n",
       "      <td>NaN</td>\n",
       "      <td>NaN</td>\n",
       "      <td>NaN</td>\n",
       "      <td>NaN</td>\n",
       "      <td>Missing</td>\n",
       "      <td>53240e6d-8771-4bd3-9921-34697581d01e</td>\n",
       "    </tr>\n",
       "  </tbody>\n",
       "</table>\n",
       "<p>2 rows × 1125 columns</p>\n",
       "</div>"
      ],
      "text/plain": [
       "   Missing_source_Month1  segment_ios_source_Month1  \\\n",
       "0                  408.0                      135.0   \n",
       "1                   42.0                       69.0   \n",
       "\n",
       "   segment_tre_source_Month1  source_Month1_Total  Missing_source_Month2  \\\n",
       "0                        NaN                543.0                    NaN   \n",
       "1                        NaN                111.0                    NaN   \n",
       "\n",
       "   segment_ios_source_Month2  segment_tre_source_Month2  source_Month2_Total  \\\n",
       "0                        NaN                        NaN                  NaN   \n",
       "1                        NaN                        NaN                  NaN   \n",
       "\n",
       "   Missing_source_Week1  segment_ios_source_Week1  ...  \\\n",
       "0                 408.0                     135.0  ...   \n",
       "1                  42.0                      69.0  ...   \n",
       "\n",
       "   Total_activity_weekday  health-step-distance_Total.2  \\\n",
       "0                     NaN                           NaN   \n",
       "1                     NaN                           NaN   \n",
       "\n",
       "   Other_health-step-count  apple_health-flights-climbed  \\\n",
       "0                      NaN                           NaN   \n",
       "1                      NaN                           NaN   \n",
       "\n",
       "   health-flights-climbed_Total.2  health-step-distance_Total.3  \\\n",
       "0                             NaN                           NaN   \n",
       "1                             NaN                           NaN   \n",
       "\n",
       "   1_health-step-count  health-step-count_Total.3  kmeans_pred  \\\n",
       "0                  NaN                        NaN      Missing   \n",
       "1                  NaN                        NaN      Missing   \n",
       "\n",
       "                                  owner  \n",
       "0  0dfd864a-516c-4bdf-988d-d7536083aa6a  \n",
       "1  53240e6d-8771-4bd3-9921-34697581d01e  \n",
       "\n",
       "[2 rows x 1125 columns]"
      ]
     },
     "execution_count": 24,
     "metadata": {},
     "output_type": "execute_result"
    }
   ],
   "source": [
    "df_total['owner'] = df_total.index.map(dicti2)\n",
    "df_total.to_csv(\"new_ongo_aggregated.csv\", index=True)\n",
    "df = pd.read_csv(\"new_ongo_aggregated.csv\")\n",
    "df.drop(columns=['Unnamed: 0'], inplace=True)\n",
    "df.head(2)"
   ]
  },
  {
   "cell_type": "code",
   "execution_count": 25,
   "metadata": {},
   "outputs": [
    {
     "data": {
      "text/html": [
       "<div>\n",
       "<style scoped>\n",
       "    .dataframe tbody tr th:only-of-type {\n",
       "        vertical-align: middle;\n",
       "    }\n",
       "\n",
       "    .dataframe tbody tr th {\n",
       "        vertical-align: top;\n",
       "    }\n",
       "\n",
       "    .dataframe thead th {\n",
       "        text-align: right;\n",
       "    }\n",
       "</style>\n",
       "<table border=\"1\" class=\"dataframe\">\n",
       "  <thead>\n",
       "    <tr style=\"text-align: right;\">\n",
       "      <th></th>\n",
       "      <th>joined_community_at</th>\n",
       "      <th>community_type</th>\n",
       "      <th>goal</th>\n",
       "      <th>community</th>\n",
       "      <th>metric_started_app_session_week1</th>\n",
       "      <th>metric_started_app_session_week2</th>\n",
       "      <th>metric_started_app_session_week3</th>\n",
       "      <th>metric_started_app_session_week4</th>\n",
       "      <th>metric_complete_session_gettingstarted_week4</th>\n",
       "      <th>metric_complete_session_welcome_week4</th>\n",
       "      <th>...</th>\n",
       "      <th>metric_session_start_day_0</th>\n",
       "      <th>metric_session_start_day_1_30</th>\n",
       "      <th>metric_session_start_day_30_60</th>\n",
       "      <th>metric_session_start_day_60_up</th>\n",
       "      <th>_id</th>\n",
       "      <th>flag_startsession_b4_subs</th>\n",
       "      <th>flag_starttrial_b4_subs</th>\n",
       "      <th>flag_companysession_b4_subs</th>\n",
       "      <th>flag_compquickstart_b4_subs</th>\n",
       "      <th>flag_enrolprgm_b4_subs</th>\n",
       "    </tr>\n",
       "  </thead>\n",
       "  <tbody>\n",
       "    <tr>\n",
       "      <th>0</th>\n",
       "      <td>2020-01-17 15:50:00</td>\n",
       "      <td>running</td>\n",
       "      <td>running.health</td>\n",
       "      <td>The Run Experience</td>\n",
       "      <td>1.0</td>\n",
       "      <td>1.0</td>\n",
       "      <td>1.0</td>\n",
       "      <td>1.0</td>\n",
       "      <td>1.0</td>\n",
       "      <td>0.0</td>\n",
       "      <td>...</td>\n",
       "      <td>1</td>\n",
       "      <td>0</td>\n",
       "      <td>0</td>\n",
       "      <td>0</td>\n",
       "      <td>bc03395a-222e-42d3-be3f-d88878b57640</td>\n",
       "      <td>NaN</td>\n",
       "      <td>NaN</td>\n",
       "      <td>NaN</td>\n",
       "      <td>NaN</td>\n",
       "      <td>NaN</td>\n",
       "    </tr>\n",
       "    <tr>\n",
       "      <th>1</th>\n",
       "      <td>2020-01-17 15:43:00</td>\n",
       "      <td>running</td>\n",
       "      <td>running.race</td>\n",
       "      <td>The Run Experience</td>\n",
       "      <td>1.0</td>\n",
       "      <td>1.0</td>\n",
       "      <td>1.0</td>\n",
       "      <td>1.0</td>\n",
       "      <td>0.0</td>\n",
       "      <td>0.0</td>\n",
       "      <td>...</td>\n",
       "      <td>0</td>\n",
       "      <td>0</td>\n",
       "      <td>0</td>\n",
       "      <td>0</td>\n",
       "      <td>c4b763d9-2733-4d89-b889-3b2d92e8e2a1</td>\n",
       "      <td>NaN</td>\n",
       "      <td>NaN</td>\n",
       "      <td>NaN</td>\n",
       "      <td>NaN</td>\n",
       "      <td>NaN</td>\n",
       "    </tr>\n",
       "  </tbody>\n",
       "</table>\n",
       "<p>2 rows × 44 columns</p>\n",
       "</div>"
      ],
      "text/plain": [
       "  joined_community_at community_type            goal           community  \\\n",
       "0 2020-01-17 15:50:00        running  running.health  The Run Experience   \n",
       "1 2020-01-17 15:43:00        running    running.race  The Run Experience   \n",
       "\n",
       "   metric_started_app_session_week1  metric_started_app_session_week2  \\\n",
       "0                               1.0                               1.0   \n",
       "1                               1.0                               1.0   \n",
       "\n",
       "   metric_started_app_session_week3  metric_started_app_session_week4  \\\n",
       "0                               1.0                               1.0   \n",
       "1                               1.0                               1.0   \n",
       "\n",
       "   metric_complete_session_gettingstarted_week4  \\\n",
       "0                                           1.0   \n",
       "1                                           0.0   \n",
       "\n",
       "   metric_complete_session_welcome_week4  ...  metric_session_start_day_0  \\\n",
       "0                                    0.0  ...                           1   \n",
       "1                                    0.0  ...                           0   \n",
       "\n",
       "   metric_session_start_day_1_30 metric_session_start_day_30_60  \\\n",
       "0                              0                              0   \n",
       "1                              0                              0   \n",
       "\n",
       "  metric_session_start_day_60_up                                   _id  \\\n",
       "0                              0  bc03395a-222e-42d3-be3f-d88878b57640   \n",
       "1                              0  c4b763d9-2733-4d89-b889-3b2d92e8e2a1   \n",
       "\n",
       "  flag_startsession_b4_subs flag_starttrial_b4_subs  \\\n",
       "0                       NaN                     NaN   \n",
       "1                       NaN                     NaN   \n",
       "\n",
       "  flag_companysession_b4_subs flag_compquickstart_b4_subs  \\\n",
       "0                         NaN                         NaN   \n",
       "1                         NaN                         NaN   \n",
       "\n",
       "   flag_enrolprgm_b4_subs  \n",
       "0                     NaN  \n",
       "1                     NaN  \n",
       "\n",
       "[2 rows x 44 columns]"
      ]
     },
     "execution_count": 25,
     "metadata": {},
     "output_type": "execute_result"
    }
   ],
   "source": [
    "df_subscription = pd.read_csv(\n",
    "    'ongouser_modeling_ds-2.csv', parse_dates=['joined_community_at'])\n",
    "df_subscription.drop(columns=['Unnamed: 0'], inplace=True)\n",
    "df_subscription.head(2)"
   ]
  },
  {
   "cell_type": "code",
   "execution_count": 26,
   "metadata": {},
   "outputs": [
    {
     "data": {
      "application/vnd.jupyter.widget-view+json": {
       "model_id": "b3bec32dcef645a9a217108751345891",
       "version_major": 2,
       "version_minor": 0
      },
      "text/plain": [
       "HBox(children=(FloatProgress(value=1.0, bar_style='info', max=1.0), HTML(value='')))"
      ]
     },
     "metadata": {},
     "output_type": "display_data"
    },
    {
     "name": "stdout",
     "output_type": "stream",
     "text": [
      "\n"
     ]
    },
    {
     "data": {
      "text/plain": [
       "0    279\n",
       "1    274\n",
       "Name: subscription, dtype: int64"
      ]
     },
     "execution_count": 26,
     "metadata": {},
     "output_type": "execute_result"
    }
   ],
   "source": [
    "from tqdm import tqdm_notebook\n",
    "subscription = []\n",
    "for index1, row1 in tqdm_notebook(df.iterrows()):\n",
    "    # print(row1['owner'])\n",
    "    for index2, row2 in df_subscription.iterrows():\n",
    "        if row1['owner'] == row2['_id']:\n",
    "            subscription.append(row2['converted_to_started_subscription'])\n",
    "\n",
    "df['subscription'] = subscription\n",
    "# Balanced target in the new dataset\n",
    "df['subscription'].value_counts()"
   ]
  },
  {
   "cell_type": "code",
   "execution_count": 27,
   "metadata": {},
   "outputs": [
    {
     "data": {
      "text/html": [
       "<div>\n",
       "<style scoped>\n",
       "    .dataframe tbody tr th:only-of-type {\n",
       "        vertical-align: middle;\n",
       "    }\n",
       "\n",
       "    .dataframe tbody tr th {\n",
       "        vertical-align: top;\n",
       "    }\n",
       "\n",
       "    .dataframe thead th {\n",
       "        text-align: right;\n",
       "    }\n",
       "</style>\n",
       "<table border=\"1\" class=\"dataframe\">\n",
       "  <thead>\n",
       "    <tr style=\"text-align: right;\">\n",
       "      <th></th>\n",
       "      <th>Missing_source_Month1</th>\n",
       "      <th>segment_ios_source_Month1</th>\n",
       "      <th>segment_tre_source_Month1</th>\n",
       "      <th>source_Month1_Total</th>\n",
       "      <th>Missing_source_Month2</th>\n",
       "      <th>segment_ios_source_Month2</th>\n",
       "      <th>segment_tre_source_Month2</th>\n",
       "      <th>source_Month2_Total</th>\n",
       "      <th>Missing_source_Week1</th>\n",
       "      <th>segment_ios_source_Week1</th>\n",
       "      <th>...</th>\n",
       "      <th>health-step-distance_Total.2</th>\n",
       "      <th>Other_health-step-count</th>\n",
       "      <th>apple_health-flights-climbed</th>\n",
       "      <th>health-flights-climbed_Total.2</th>\n",
       "      <th>health-step-distance_Total.3</th>\n",
       "      <th>1_health-step-count</th>\n",
       "      <th>health-step-count_Total.3</th>\n",
       "      <th>kmeans_pred</th>\n",
       "      <th>owner</th>\n",
       "      <th>subscription</th>\n",
       "    </tr>\n",
       "  </thead>\n",
       "  <tbody>\n",
       "    <tr>\n",
       "      <th>0</th>\n",
       "      <td>408.0</td>\n",
       "      <td>135.0</td>\n",
       "      <td>NaN</td>\n",
       "      <td>543.0</td>\n",
       "      <td>NaN</td>\n",
       "      <td>NaN</td>\n",
       "      <td>NaN</td>\n",
       "      <td>NaN</td>\n",
       "      <td>408.0</td>\n",
       "      <td>135.0</td>\n",
       "      <td>...</td>\n",
       "      <td>NaN</td>\n",
       "      <td>NaN</td>\n",
       "      <td>NaN</td>\n",
       "      <td>NaN</td>\n",
       "      <td>NaN</td>\n",
       "      <td>NaN</td>\n",
       "      <td>NaN</td>\n",
       "      <td>Missing</td>\n",
       "      <td>0dfd864a-516c-4bdf-988d-d7536083aa6a</td>\n",
       "      <td>0</td>\n",
       "    </tr>\n",
       "    <tr>\n",
       "      <th>1</th>\n",
       "      <td>42.0</td>\n",
       "      <td>69.0</td>\n",
       "      <td>NaN</td>\n",
       "      <td>111.0</td>\n",
       "      <td>NaN</td>\n",
       "      <td>NaN</td>\n",
       "      <td>NaN</td>\n",
       "      <td>NaN</td>\n",
       "      <td>42.0</td>\n",
       "      <td>69.0</td>\n",
       "      <td>...</td>\n",
       "      <td>NaN</td>\n",
       "      <td>NaN</td>\n",
       "      <td>NaN</td>\n",
       "      <td>NaN</td>\n",
       "      <td>NaN</td>\n",
       "      <td>NaN</td>\n",
       "      <td>NaN</td>\n",
       "      <td>Missing</td>\n",
       "      <td>53240e6d-8771-4bd3-9921-34697581d01e</td>\n",
       "      <td>0</td>\n",
       "    </tr>\n",
       "  </tbody>\n",
       "</table>\n",
       "<p>2 rows × 1126 columns</p>\n",
       "</div>"
      ],
      "text/plain": [
       "   Missing_source_Month1  segment_ios_source_Month1  \\\n",
       "0                  408.0                      135.0   \n",
       "1                   42.0                       69.0   \n",
       "\n",
       "   segment_tre_source_Month1  source_Month1_Total  Missing_source_Month2  \\\n",
       "0                        NaN                543.0                    NaN   \n",
       "1                        NaN                111.0                    NaN   \n",
       "\n",
       "   segment_ios_source_Month2  segment_tre_source_Month2  source_Month2_Total  \\\n",
       "0                        NaN                        NaN                  NaN   \n",
       "1                        NaN                        NaN                  NaN   \n",
       "\n",
       "   Missing_source_Week1  segment_ios_source_Week1  ...  \\\n",
       "0                 408.0                     135.0  ...   \n",
       "1                  42.0                      69.0  ...   \n",
       "\n",
       "   health-step-distance_Total.2  Other_health-step-count  \\\n",
       "0                           NaN                      NaN   \n",
       "1                           NaN                      NaN   \n",
       "\n",
       "   apple_health-flights-climbed  health-flights-climbed_Total.2  \\\n",
       "0                           NaN                             NaN   \n",
       "1                           NaN                             NaN   \n",
       "\n",
       "   health-step-distance_Total.3  1_health-step-count  \\\n",
       "0                           NaN                  NaN   \n",
       "1                           NaN                  NaN   \n",
       "\n",
       "   health-step-count_Total.3  kmeans_pred  \\\n",
       "0                        NaN      Missing   \n",
       "1                        NaN      Missing   \n",
       "\n",
       "                                  owner  subscription  \n",
       "0  0dfd864a-516c-4bdf-988d-d7536083aa6a             0  \n",
       "1  53240e6d-8771-4bd3-9921-34697581d01e             0  \n",
       "\n",
       "[2 rows x 1126 columns]"
      ]
     },
     "execution_count": 27,
     "metadata": {},
     "output_type": "execute_result"
    }
   ],
   "source": [
    "df.to_csv(\"new_ongo_aggregated.csv\", index=True)\n",
    "df = pd.read_csv(\"new_ongo_aggregated.csv\")\n",
    "df.drop(columns=['Unnamed: 0'], inplace=True)\n",
    "df.head(2)"
   ]
  },
  {
   "cell_type": "code",
   "execution_count": 28,
   "metadata": {},
   "outputs": [],
   "source": [
    "###### Next: Part C. 3. FeatureSpaceReduction_Ongo_UserActivity_AppleHealthkit_G.ipynb ######"
   ]
  }
 ],
 "metadata": {
  "hide_input": false,
  "kernelspec": {
   "display_name": "Python 3",
   "language": "python",
   "name": "python3"
  },
  "language_info": {
   "codemirror_mode": {
    "name": "ipython",
    "version": 3
   },
   "file_extension": ".py",
   "mimetype": "text/x-python",
   "name": "python",
   "nbconvert_exporter": "python",
   "pygments_lexer": "ipython3",
   "version": "3.7.4"
  },
  "toc": {
   "base_numbering": 1,
   "nav_menu": {},
   "number_sections": true,
   "sideBar": true,
   "skip_h1_title": false,
   "title_cell": "Table of Contents",
   "title_sidebar": "Contents",
   "toc_cell": false,
   "toc_position": {},
   "toc_section_display": true,
   "toc_window_display": false
  },
  "varInspector": {
   "cols": {
    "lenName": 16,
    "lenType": 16,
    "lenVar": 40
   },
   "kernels_config": {
    "python": {
     "delete_cmd_postfix": "",
     "delete_cmd_prefix": "del ",
     "library": "var_list.py",
     "varRefreshCmd": "print(var_dic_list())"
    },
    "r": {
     "delete_cmd_postfix": ") ",
     "delete_cmd_prefix": "rm(",
     "library": "var_list.r",
     "varRefreshCmd": "cat(var_dic_list()) "
    }
   },
   "types_to_exclude": [
    "module",
    "function",
    "builtin_function_or_method",
    "instance",
    "_Feature"
   ],
   "window_display": false
  }
 },
 "nbformat": 4,
 "nbformat_minor": 2
}
