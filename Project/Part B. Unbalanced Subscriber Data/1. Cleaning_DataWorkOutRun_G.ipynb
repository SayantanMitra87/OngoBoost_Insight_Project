{
 "cells": [
  {
   "cell_type": "markdown",
   "metadata": {},
   "source": [
    "## Explore And Clean `DataWorkOutRun.csv`"
   ]
  },
  {
   "cell_type": "markdown",
   "metadata": {},
   "source": [
    "**Purpose :** of this notebook is to clean DataWorkoutRun.csv in order to aggregate it (Part B. Notebook2) and then add subscription column. Following that I will build machine learning model to undertsand what user behavior drives their subscription DNA (what knowledge we can drive from their behavior to understand whether a user will subscribe)."
   ]
  },
  {
   "cell_type": "code",
   "execution_count": 1,
   "metadata": {},
   "outputs": [],
   "source": [
    "import numpy as np\n",
    "import pandas as pd\n",
    "# ignore warnings\n",
    "import warnings\n",
    "warnings.filterwarnings('ignore')"
   ]
  },
  {
   "cell_type": "markdown",
   "metadata": {},
   "source": [
    "### Checking and labelling the unique_id of the ongouser_modeling data #####"
   ]
  },
  {
   "cell_type": "code",
   "execution_count": 2,
   "metadata": {},
   "outputs": [
    {
     "data": {
      "text/html": [
       "<div>\n",
       "<style scoped>\n",
       "    .dataframe tbody tr th:only-of-type {\n",
       "        vertical-align: middle;\n",
       "    }\n",
       "\n",
       "    .dataframe tbody tr th {\n",
       "        vertical-align: top;\n",
       "    }\n",
       "\n",
       "    .dataframe thead th {\n",
       "        text-align: right;\n",
       "    }\n",
       "</style>\n",
       "<table border=\"1\" class=\"dataframe\">\n",
       "  <thead>\n",
       "    <tr style=\"text-align: right;\">\n",
       "      <th></th>\n",
       "      <th>Unnamed: 0</th>\n",
       "      <th>joined_community_at</th>\n",
       "      <th>community_type</th>\n",
       "      <th>goal</th>\n",
       "      <th>community</th>\n",
       "      <th>metric_started_app_session_week1</th>\n",
       "      <th>metric_started_app_session_week2</th>\n",
       "      <th>metric_started_app_session_week3</th>\n",
       "      <th>metric_started_app_session_week4</th>\n",
       "      <th>metric_complete_session_gettingstarted_week4</th>\n",
       "      <th>...</th>\n",
       "      <th>metric_session_start_day_0</th>\n",
       "      <th>metric_session_start_day_1_30</th>\n",
       "      <th>metric_session_start_day_30_60</th>\n",
       "      <th>metric_session_start_day_60_up</th>\n",
       "      <th>_id</th>\n",
       "      <th>flag_startsession_b4_subs</th>\n",
       "      <th>flag_starttrial_b4_subs</th>\n",
       "      <th>flag_companysession_b4_subs</th>\n",
       "      <th>flag_compquickstart_b4_subs</th>\n",
       "      <th>flag_enrolprgm_b4_subs</th>\n",
       "    </tr>\n",
       "  </thead>\n",
       "  <tbody>\n",
       "    <tr>\n",
       "      <th>0</th>\n",
       "      <td>1</td>\n",
       "      <td>2020-01-17 15:50:00</td>\n",
       "      <td>running</td>\n",
       "      <td>running.health</td>\n",
       "      <td>The Run Experience</td>\n",
       "      <td>1.0</td>\n",
       "      <td>1.0</td>\n",
       "      <td>1.0</td>\n",
       "      <td>1.0</td>\n",
       "      <td>1.0</td>\n",
       "      <td>...</td>\n",
       "      <td>1</td>\n",
       "      <td>0</td>\n",
       "      <td>0</td>\n",
       "      <td>0</td>\n",
       "      <td>bc03395a-222e-42d3-be3f-d88878b57640</td>\n",
       "      <td>NaN</td>\n",
       "      <td>NaN</td>\n",
       "      <td>NaN</td>\n",
       "      <td>NaN</td>\n",
       "      <td>NaN</td>\n",
       "    </tr>\n",
       "    <tr>\n",
       "      <th>1</th>\n",
       "      <td>2</td>\n",
       "      <td>2020-01-17 15:43:00</td>\n",
       "      <td>running</td>\n",
       "      <td>running.race</td>\n",
       "      <td>The Run Experience</td>\n",
       "      <td>1.0</td>\n",
       "      <td>1.0</td>\n",
       "      <td>1.0</td>\n",
       "      <td>1.0</td>\n",
       "      <td>0.0</td>\n",
       "      <td>...</td>\n",
       "      <td>0</td>\n",
       "      <td>0</td>\n",
       "      <td>0</td>\n",
       "      <td>0</td>\n",
       "      <td>c4b763d9-2733-4d89-b889-3b2d92e8e2a1</td>\n",
       "      <td>NaN</td>\n",
       "      <td>NaN</td>\n",
       "      <td>NaN</td>\n",
       "      <td>NaN</td>\n",
       "      <td>NaN</td>\n",
       "    </tr>\n",
       "  </tbody>\n",
       "</table>\n",
       "<p>2 rows × 45 columns</p>\n",
       "</div>"
      ],
      "text/plain": [
       "   Unnamed: 0 joined_community_at community_type            goal  \\\n",
       "0           1 2020-01-17 15:50:00        running  running.health   \n",
       "1           2 2020-01-17 15:43:00        running    running.race   \n",
       "\n",
       "            community  metric_started_app_session_week1  \\\n",
       "0  The Run Experience                               1.0   \n",
       "1  The Run Experience                               1.0   \n",
       "\n",
       "   metric_started_app_session_week2  metric_started_app_session_week3  \\\n",
       "0                               1.0                               1.0   \n",
       "1                               1.0                               1.0   \n",
       "\n",
       "   metric_started_app_session_week4  \\\n",
       "0                               1.0   \n",
       "1                               1.0   \n",
       "\n",
       "   metric_complete_session_gettingstarted_week4  ...  \\\n",
       "0                                           1.0  ...   \n",
       "1                                           0.0  ...   \n",
       "\n",
       "   metric_session_start_day_0  metric_session_start_day_1_30  \\\n",
       "0                           1                              0   \n",
       "1                           0                              0   \n",
       "\n",
       "   metric_session_start_day_30_60 metric_session_start_day_60_up  \\\n",
       "0                               0                              0   \n",
       "1                               0                              0   \n",
       "\n",
       "                                    _id flag_startsession_b4_subs  \\\n",
       "0  bc03395a-222e-42d3-be3f-d88878b57640                       NaN   \n",
       "1  c4b763d9-2733-4d89-b889-3b2d92e8e2a1                       NaN   \n",
       "\n",
       "  flag_starttrial_b4_subs flag_companysession_b4_subs  \\\n",
       "0                     NaN                         NaN   \n",
       "1                     NaN                         NaN   \n",
       "\n",
       "  flag_compquickstart_b4_subs flag_enrolprgm_b4_subs  \n",
       "0                         NaN                    NaN  \n",
       "1                         NaN                    NaN  \n",
       "\n",
       "[2 rows x 45 columns]"
      ]
     },
     "execution_count": 2,
     "metadata": {},
     "output_type": "execute_result"
    }
   ],
   "source": [
    "df_x = pd.read_csv('ongouser_modeling_ds-2.csv', parse_dates=['joined_community_at','converted_to_started_subscription_at'])\n",
    "df_x.head(2)"
   ]
  },
  {
   "cell_type": "code",
   "execution_count": 3,
   "metadata": {},
   "outputs": [
    {
     "name": "stdout",
     "output_type": "stream",
     "text": [
      "Shape of Ongouser_modeling_ds rows: 19778, columns: 45\n"
     ]
    }
   ],
   "source": [
    "print(f'Shape of Ongouser_modeling_ds rows: {df_x.shape[0]}, columns: {df_x.shape[1]}')\n",
    "\n",
    "# Label the unique ids of ongouser with easy to read ids\n",
    "dicti = {}\n",
    "x=0\n",
    "for i in df_x['_id'].unique():  \n",
    "    dicti[i]=x\n",
    "    x+=1\n",
    "df_x['easy_id_4_subscription']=df_x['_id'].map(dicti)\n",
    "\n",
    "dicti2 = {}\n",
    "for index, row in df_x.iterrows():\n",
    "    dicti2[row['easy_id_4_subscription']]=row['joined_community_at']"
   ]
  },
  {
   "cell_type": "code",
   "execution_count": 4,
   "metadata": {},
   "outputs": [
    {
     "data": {
      "text/plain": [
       "19778"
      ]
     },
     "execution_count": 4,
     "metadata": {},
     "output_type": "execute_result"
    }
   ],
   "source": [
    "# Create a new date mapped specific to each user (2 months after joining the community)\n",
    "# 2 months because we are trying to predict subscription 2 months after joining the community (Free-tier)\n",
    "df_x['2month_4m_joining'] = df_x.apply(lambda x: x['joined_community_at'] + pd.DateOffset(months = 2), axis=1)\n",
    "\n",
    "#Unique ongousers in Ongouser_modeling_ds \n",
    "df_x['easy_id_4_subscription'].nunique()"
   ]
  },
  {
   "cell_type": "markdown",
   "metadata": {},
   "source": [
    "#### Mapping the user_ids of DataWorkoutRun ( dataframe that needs to be aggregated) with same ids from other .csv###"
   ]
  },
  {
   "cell_type": "code",
   "execution_count": 5,
   "metadata": {},
   "outputs": [
    {
     "data": {
      "text/plain": [
       "owner                     1097\n",
       "easy_id_2be_aggregated    1030\n",
       "dtype: int64"
      ]
     },
     "execution_count": 5,
     "metadata": {},
     "output_type": "execute_result"
    }
   ],
   "source": [
    "df  = pd.read_csv('DataWorkoutRun_with_header.csv')\n",
    "# Location info not required\n",
    "df = df.drop(columns=['locations'])\n",
    "\n",
    "# Map the owner ids with the easy_ids from Ongouser_modeling_ds \n",
    "df['easy_id_2be_aggregated']=df['owner'].map(dicti)\n",
    "df[['owner','easy_id_2be_aggregated']].nunique()"
   ]
  },
  {
   "cell_type": "markdown",
   "metadata": {},
   "source": [
    "Some owners (67) in DataWorkoutRun are not present in the Ongo-modeling data, so I have to remove them"
   ]
  },
  {
   "cell_type": "code",
   "execution_count": 6,
   "metadata": {},
   "outputs": [
    {
     "data": {
      "text/plain": [
       "owner                     1030\n",
       "easy_id_2be_aggregated    1030\n",
       "dtype: int64"
      ]
     },
     "execution_count": 6,
     "metadata": {},
     "output_type": "execute_result"
    }
   ],
   "source": [
    "df_y = df.dropna(subset=['easy_id_2be_aggregated'])\n",
    "df_y[['owner','easy_id_2be_aggregated']].nunique()"
   ]
  },
  {
   "cell_type": "code",
   "execution_count": 7,
   "metadata": {},
   "outputs": [
    {
     "name": "stdout",
     "output_type": "stream",
     "text": [
      "Shape of DataWorkoutRun rows: 5591, columns: 15\n"
     ]
    }
   ],
   "source": [
    "print(f'Shape of DataWorkoutRun rows: {df_y.shape[0]}, columns: {df_y.shape[1]}')"
   ]
  },
  {
   "cell_type": "code",
   "execution_count": 8,
   "metadata": {},
   "outputs": [
    {
     "name": "stdout",
     "output_type": "stream",
     "text": [
      "Before selecting only common users, Ongouser_modeling data had rows: 19778 and columns: 47\n",
      "After selecting only common users, Ongouser_modeling data had rows: 1030 and columns: 47\n"
     ]
    }
   ],
   "source": [
    "# Startdate needs to be datetime column\n",
    "df_y['startDate'] = pd.to_datetime(df_y['startDate'], errors='coerce')\n",
    "# Timezone info has to be removed to compare datetime columns\n",
    "df_y['startDate'] = df_y['startDate'].dt.tz_convert(None)\n",
    "\n",
    "# finding common ids between Ongouser_modeling and DataWorkOutRun\n",
    "common_id_finding = df_y['easy_id_2be_aggregated'].to_list()\n",
    "filt = df_x['easy_id_4_subscription'].isin(common_id_finding)\n",
    "print(f'Before selecting only common users, Ongouser_modeling data had rows: {df_x.shape[0]} and columns: {df_x.shape[1]}')\n",
    "common_agg_df = df_x[filt]\n",
    "print(f'After selecting only common users, Ongouser_modeling data had rows: {common_agg_df.shape[0]} and columns: {common_agg_df.shape[1]}')"
   ]
  },
  {
   "cell_type": "markdown",
   "metadata": {},
   "source": [
    "Users who has subscribed (my main target in the Ongouser_modeling data), we know their date of joining Ongo_community (`joined_community_at`) and their date of subscribing (`converted_to_started_subscription_at`). We need to see the activity of the subscribers (between these two dates) and Non-subscribers (for whatever timeframe data available for them {maximum 2 months is considered} as they never subscribed). So for that I need to filter out any data I have for subscribers beyond the subscription date."
   ]
  },
  {
   "cell_type": "code",
   "execution_count": 9,
   "metadata": {},
   "outputs": [
    {
     "name": "stdout",
     "output_type": "stream",
     "text": [
      "Total people who subscribed out of 1030 Ongo users : 147\n"
     ]
    }
   ],
   "source": [
    "# Only considering the users that subscribed\n",
    "common_agg_df2 = common_agg_df[common_agg_df['converted_to_started_subscription_at'].notna()]\n",
    "print(f'Total people who subscribed out of {common_agg_df.shape[0]} Ongo users : {common_agg_df2.shape[0]}')"
   ]
  },
  {
   "cell_type": "markdown",
   "metadata": {},
   "source": [
    "Selecting the Subscribed users from DataWorkOutRun (only those rows that are between `joined_community_at` and `converted_to_started_ subscription_at` dates)"
   ]
  },
  {
   "cell_type": "code",
   "execution_count": 10,
   "metadata": {},
   "outputs": [
    {
     "data": {
      "application/vnd.jupyter.widget-view+json": {
       "model_id": "ef3bb5af12834147bc7a115db494ea65",
       "version_major": 2,
       "version_minor": 0
      },
      "text/plain": [
       "HBox(children=(FloatProgress(value=1.0, bar_style='info', max=1.0), HTML(value='')))"
      ]
     },
     "metadata": {},
     "output_type": "display_data"
    },
    {
     "name": "stdout",
     "output_type": "stream",
     "text": [
      "\n"
     ]
    },
    {
     "data": {
      "text/plain": [
       "(198, 15)"
      ]
     },
     "execution_count": 10,
     "metadata": {},
     "output_type": "execute_result"
    }
   ],
   "source": [
    "from tqdm import tqdm_notebook\n",
    "\n",
    "agg = [] \n",
    "for index1,row1 in tqdm_notebook(df_y.iterrows()):\n",
    "    for index2,row2 in common_agg_df2.iterrows():\n",
    "        if row1['easy_id_2be_aggregated'] == row2['easy_id_4_subscription']:\n",
    "            if (row1['startDate']<=row2['converted_to_started_subscription_at']):\n",
    "                if (row1['startDate']<=row2['2month_4m_joining']):\n",
    "                    agg.append(row1)\n",
    "                    \n",
    "# Subscribed user info from DataWorkoutRun between joined_community_at & converted_to_started_ subscription_at dates\n",
    "agg1_df = pd.DataFrame(agg)\n",
    "agg1_df.shape"
   ]
  },
  {
   "cell_type": "code",
   "execution_count": 11,
   "metadata": {},
   "outputs": [
    {
     "name": "stdout",
     "output_type": "stream",
     "text": [
      "Total people who did NOT subscribed out of 1030 Ongo users : 883\n"
     ]
    }
   ],
   "source": [
    "# Only considering the users that DID NOT subscribe\n",
    "common_agg_df3 = common_agg_df[common_agg_df['converted_to_started_subscription_at'].isna()]\n",
    "print(f'Total people who did NOT subscribed out of {common_agg_df.shape[0]} Ongo users : {common_agg_df3.shape[0]}')"
   ]
  },
  {
   "cell_type": "markdown",
   "metadata": {},
   "source": [
    "Selecting the NON-Subscribed users from DataWorkOutRun, for them the range of timeframe would be 2 months. "
   ]
  },
  {
   "cell_type": "code",
   "execution_count": 12,
   "metadata": {},
   "outputs": [
    {
     "data": {
      "application/vnd.jupyter.widget-view+json": {
       "model_id": "cc35388955a44f52980195d6d92da698",
       "version_major": 2,
       "version_minor": 0
      },
      "text/plain": [
       "HBox(children=(FloatProgress(value=1.0, bar_style='info', max=1.0), HTML(value='')))"
      ]
     },
     "metadata": {},
     "output_type": "display_data"
    },
    {
     "name": "stdout",
     "output_type": "stream",
     "text": [
      "\n"
     ]
    },
    {
     "data": {
      "text/plain": [
       "(2578, 15)"
      ]
     },
     "execution_count": 12,
     "metadata": {},
     "output_type": "execute_result"
    }
   ],
   "source": [
    "agg2 = [] \n",
    "for index1,row1 in tqdm_notebook(df_y.iterrows()):\n",
    "    for index2,row2 in common_agg_df3.iterrows():\n",
    "        if row1['easy_id_2be_aggregated'] == row2['easy_id_4_subscription']:\n",
    "            if (row1['startDate']<=row2['2month_4m_joining']):\n",
    "                agg2.append(row1)\n",
    "                \n",
    "# NON-Subscribed user info from DataWorkoutRun \n",
    "agg2_df = pd.DataFrame(agg2)\n",
    "agg2_df.shape"
   ]
  },
  {
   "cell_type": "markdown",
   "metadata": {},
   "source": [
    "Joining the rows from DataWorkoutRun for subscribers (between `joined_community_at` and `converted_to_started_ subscription_at` dates) and Non-subscribers"
   ]
  },
  {
   "cell_type": "code",
   "execution_count": 13,
   "metadata": {},
   "outputs": [
    {
     "data": {
      "text/plain": [
       "821"
      ]
     },
     "execution_count": 13,
     "metadata": {},
     "output_type": "execute_result"
    }
   ],
   "source": [
    "final_df_2be_agg = agg1_df.append(agg2_df, ignore_index=True)\n",
    "# loss of some subscribed user info because of errors in the data (datetime column)\n",
    "final_df_2be_agg['easy_id_2be_aggregated'].nunique()"
   ]
  },
  {
   "cell_type": "code",
   "execution_count": 14,
   "metadata": {},
   "outputs": [
    {
     "name": "stdout",
     "output_type": "stream",
     "text": [
      "Overall shape of data that I need to aggregate, rows: 2776 and columns: 16\n"
     ]
    },
    {
     "data": {
      "text/html": [
       "<div>\n",
       "<style scoped>\n",
       "    .dataframe tbody tr th:only-of-type {\n",
       "        vertical-align: middle;\n",
       "    }\n",
       "\n",
       "    .dataframe tbody tr th {\n",
       "        vertical-align: top;\n",
       "    }\n",
       "\n",
       "    .dataframe thead th {\n",
       "        text-align: right;\n",
       "    }\n",
       "</style>\n",
       "<table border=\"1\" class=\"dataframe\">\n",
       "  <thead>\n",
       "    <tr style=\"text-align: right;\">\n",
       "      <th></th>\n",
       "      <th>Unnamed: 0</th>\n",
       "      <th>type</th>\n",
       "      <th>owner</th>\n",
       "      <th>session</th>\n",
       "      <th>sessionElement</th>\n",
       "      <th>track</th>\n",
       "      <th>sessionTitle</th>\n",
       "      <th>trackTitle</th>\n",
       "      <th>startDate</th>\n",
       "      <th>startLocation</th>\n",
       "      <th>runDuration</th>\n",
       "      <th>runDistance</th>\n",
       "      <th>createdAt</th>\n",
       "      <th>updatedAt</th>\n",
       "      <th>timezone</th>\n",
       "      <th>easy_id_2be_aggregated</th>\n",
       "      <th>joined_community_at</th>\n",
       "    </tr>\n",
       "  </thead>\n",
       "  <tbody>\n",
       "    <tr>\n",
       "      <th>0</th>\n",
       "      <td>0</td>\n",
       "      <td>og.outdoor</td>\n",
       "      <td>2bb53a3f-a458-4c0d-8339-b30492b1e5f6</td>\n",
       "      <td>1d5453c4-a535-45df-9047-65d2eb00ad9f</td>\n",
       "      <td>33b57178-3213-4596-954f-96c4db9ad2a7</td>\n",
       "      <td>bc94350f-9201-4bc0-b792-f5f4abdcf6a0</td>\n",
       "      <td>Day 9: Drill Day</td>\n",
       "      <td>Marathon Program</td>\n",
       "      <td>2019-08-13 11:07:40.168</td>\n",
       "      <td>0101000020E610000018F548B4F677434017C29DDC933D...</td>\n",
       "      <td>892.070895</td>\n",
       "      <td>2351.482732</td>\n",
       "      <td>2019-08-13 11:37:42.775+00</td>\n",
       "      <td>2019-08-13 11:37:42.775+00</td>\n",
       "      <td>America/New_York</td>\n",
       "      <td>19108.0</td>\n",
       "      <td>2019-06-21 07:49:00</td>\n",
       "    </tr>\n",
       "    <tr>\n",
       "      <th>1</th>\n",
       "      <td>1</td>\n",
       "      <td>og.outdoor</td>\n",
       "      <td>4dc4c6f6-2ce5-4620-ba5c-2ed4b869998d</td>\n",
       "      <td>bbabe385-8cbd-41ac-b1e1-fea8cbef1973</td>\n",
       "      <td>21cf4c3e-e1e3-406b-a90e-4828263f038e</td>\n",
       "      <td>544e3df1-02f9-4086-8f53-7922257684c5</td>\n",
       "      <td>Day 2: Drill Day</td>\n",
       "      <td>30 Day Challenge</td>\n",
       "      <td>2019-08-13 01:02:51.095</td>\n",
       "      <td>0101000020E610000091428B2F3C44454025859E544CCC...</td>\n",
       "      <td>627.019304</td>\n",
       "      <td>1694.252356</td>\n",
       "      <td>2019-08-13 01:30:21.863+00</td>\n",
       "      <td>2019-08-13 01:30:21.863+00</td>\n",
       "      <td>America/Detroit</td>\n",
       "      <td>19074.0</td>\n",
       "      <td>2019-06-22 16:14:00</td>\n",
       "    </tr>\n",
       "  </tbody>\n",
       "</table>\n",
       "</div>"
      ],
      "text/plain": [
       "   Unnamed: 0        type                                 owner  \\\n",
       "0           0  og.outdoor  2bb53a3f-a458-4c0d-8339-b30492b1e5f6   \n",
       "1           1  og.outdoor  4dc4c6f6-2ce5-4620-ba5c-2ed4b869998d   \n",
       "\n",
       "                                session                        sessionElement  \\\n",
       "0  1d5453c4-a535-45df-9047-65d2eb00ad9f  33b57178-3213-4596-954f-96c4db9ad2a7   \n",
       "1  bbabe385-8cbd-41ac-b1e1-fea8cbef1973  21cf4c3e-e1e3-406b-a90e-4828263f038e   \n",
       "\n",
       "                                  track      sessionTitle        trackTitle  \\\n",
       "0  bc94350f-9201-4bc0-b792-f5f4abdcf6a0  Day 9: Drill Day  Marathon Program   \n",
       "1  544e3df1-02f9-4086-8f53-7922257684c5  Day 2: Drill Day  30 Day Challenge   \n",
       "\n",
       "                 startDate                                      startLocation  \\\n",
       "0  2019-08-13 11:07:40.168  0101000020E610000018F548B4F677434017C29DDC933D...   \n",
       "1  2019-08-13 01:02:51.095  0101000020E610000091428B2F3C44454025859E544CCC...   \n",
       "\n",
       "   runDuration  runDistance                   createdAt  \\\n",
       "0   892.070895  2351.482732  2019-08-13 11:37:42.775+00   \n",
       "1   627.019304  1694.252356  2019-08-13 01:30:21.863+00   \n",
       "\n",
       "                    updatedAt          timezone  easy_id_2be_aggregated  \\\n",
       "0  2019-08-13 11:37:42.775+00  America/New_York                 19108.0   \n",
       "1  2019-08-13 01:30:21.863+00   America/Detroit                 19074.0   \n",
       "\n",
       "   joined_community_at  \n",
       "0  2019-06-21 07:49:00  \n",
       "1  2019-06-22 16:14:00  "
      ]
     },
     "execution_count": 14,
     "metadata": {},
     "output_type": "execute_result"
    }
   ],
   "source": [
    "final_df_2be_agg['joined_community_at'] = final_df_2be_agg['easy_id_2be_aggregated'].map(dicti2)\n",
    "print(f'Overall shape of data that I need to aggregate, rows: {final_df_2be_agg.shape[0]} and columns: {final_df_2be_agg.shape[1]}')\n",
    "\n",
    "final_df_2be_agg.to_csv(\"clean_DataWorkOutRun.csv\", index=True)\n",
    "df = pd.read_csv('clean_DataWorkOutRun.csv')\n",
    "df.head(2)"
   ]
  },
  {
   "cell_type": "markdown",
   "metadata": {},
   "source": [
    "**Next step: Aggregate this df, add binary (whether user synced their historic data from 3rd party integration) and other important features that separate the clusters to the aggregated data and then predict subscription**"
   ]
  },
  {
   "cell_type": "code",
   "execution_count": null,
   "metadata": {},
   "outputs": [],
   "source": [
    "#### Next: Part B. 2. Aggregating_DataWorkoutRun_with_AppleHealthKit_G.ipynb ####"
   ]
  }
 ],
 "metadata": {
  "kernelspec": {
   "display_name": "Python 3",
   "language": "python",
   "name": "python3"
  },
  "language_info": {
   "codemirror_mode": {
    "name": "ipython",
    "version": 3
   },
   "file_extension": ".py",
   "mimetype": "text/x-python",
   "name": "python",
   "nbconvert_exporter": "python",
   "pygments_lexer": "ipython3",
   "version": "3.7.4"
  }
 },
 "nbformat": 4,
 "nbformat_minor": 2
}
